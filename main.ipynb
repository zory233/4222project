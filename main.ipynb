{
 "cells": [
  {
   "cell_type": "markdown",
   "metadata": {
    "id": "vobP7ahXP1EG"
   },
   "source": [
    "# Graph-Learning-Based Recommender System on MovieLens\n",
    "\n",
    "### Group 9\n",
    "\n",
    "- AGARWAL, Sahil\n",
    "- WEI, Yuanjing\n",
    "- ZHANG, Yujun yzhanglo@connect.ust.hk\n",
    "\n",
    "Group project of COMP4222@HKUST in 2022 Fall."
   ]
  },
  {
   "cell_type": "markdown",
   "metadata": {
    "id": "QpTqYz7qYJbP"
   },
   "source": [
    "# 1 Environment Configuration"
   ]
  },
  {
   "cell_type": "code",
   "execution_count": 1,
   "metadata": {
    "colab": {
     "base_uri": "https://localhost:8080/",
     "height": 603
    },
    "executionInfo": {
     "elapsed": 30299,
     "status": "error",
     "timestamp": 1667642237984,
     "user": {
      "displayName": "Yj WEI",
      "userId": "09205277183220707996"
     },
     "user_tz": -480
    },
    "id": "MXxR7IpwI83o",
    "outputId": "9933f848-12fa-442f-afe4-0d95a20a464e",
    "vscode": {
     "languageId": "python"
    }
   },
   "outputs": [
    {
     "name": "stdout",
     "output_type": "stream",
     "text": [
      "/data/yzhanglo/4222project\n",
      "\u001b[0m\u001b[38;5;27mcomp4222\u001b[0m/     lightgcn.yaml     movielens.ipynb  requirements.txt\n",
      "cuda101.yml   \u001b[38;5;27mlogs\u001b[0m/             \u001b[38;5;9mmovielens.zip\u001b[0m    sahil_main.ipynb\n",
      "\u001b[38;5;27mKGAT_folder\u001b[0m/  main.ipynb        params.csv       save1.html\n",
      "LICENSE       \u001b[38;5;27mml-100k\u001b[0m/          README.md        tp.ipynb\n",
      "\u001b[38;5;27mLightGCN\u001b[0m/     \u001b[38;5;27mml-latest-small\u001b[0m/  \u001b[38;5;27mrecommenders\u001b[0m/    zory_main.ipynb\n"
     ]
    }
   ],
   "source": [
    "# change the path in the following\n",
    "try:\n",
    "    from google.colab import drive\n",
    "    drive.mount('/content/drive')\n",
    "    %cd '/content/drive/MyDrive/4222Group9'\n",
    "except:\n",
    "    %cd '/data/yzhanglo/4222project'\n",
    "\n",
    "import comp4222\n",
    "import recommenders\n",
    "%pwd\n",
    "%ls"
   ]
  },
  {
   "cell_type": "code",
   "execution_count": 2,
   "metadata": {
    "executionInfo": {
     "elapsed": 14,
     "status": "aborted",
     "timestamp": 1667642237987,
     "user": {
      "displayName": "Yj WEI",
      "userId": "09205277183220707996"
     },
     "user_tz": -480
    },
    "id": "7RuvfqktV-jm",
    "vscode": {
     "languageId": "python"
    }
   },
   "outputs": [
    {
     "name": "stderr",
     "output_type": "stream",
     "text": [
      "2022-12-13 23:31:46.823967: I tensorflow/stream_executor/platform/default/dso_loader.cc:48] Successfully opened dynamic library libcudart.so.10.1\n",
      "/data/yzhanglo/miniconda/envs/cu101/lib/python3.8/site-packages/tqdm/auto.py:22: TqdmWarning: IProgress not found. Please update jupyter and ipywidgets. See https://ipywidgets.readthedocs.io/en/stable/user_install.html\n",
      "  from .autonotebook import tqdm as notebook_tqdm\n"
     ]
    }
   ],
   "source": [
    "import numpy as np\n",
    "import pandas as pd\n",
    "import matplotlib.pyplot as plt\n",
    "import tensorflow as tf\n",
    "import torch\n",
    "from tensorboardX import SummaryWriter\n",
    "\n",
    "# easier to print by putting variable as a single line\n",
    "from IPython.core.interactiveshell import InteractiveShell\n",
    "InteractiveShell.ast_node_interactivity = \"all\"\n",
    "\n",
    "# make matplotlib figures appear inline in the notebook rather than in a new window.\n",
    "%matplotlib inline\n",
    "plt.rcParams['figure.figsize'] = (10.0, 8.0) # set default size of plots\n",
    "plt.rcParams['image.interpolation'] = 'nearest'\n",
    "plt.rcParams['image.cmap'] = 'gray'\n",
    "\n",
    "# Add some convenience functions to Pandas DataFrame.\n",
    "pd.options.display.max_rows = 10\n",
    "pd.options.display.float_format = '{:.2f}'.format\n",
    "def mask(df, key, function):\n",
    "  \"\"\"Returns a filtered dataframe, by applying function to key\"\"\"\n",
    "  return df[function(df[key])]\n",
    "\n",
    "def flatten_cols(df):\n",
    "  df.columns = [' '.join(col).strip() for col in df.columns.values]\n",
    "  return df\n",
    "\n",
    "pd.DataFrame.mask = mask\n",
    "pd.DataFrame.flatten_cols = flatten_cols\n",
    "\n",
    "# http://stackoverflow.com/questions/1907993/autoreload-of-modules-in-ipython\n",
    "%load_ext autoreload\n",
    "%autoreload 2"
   ]
  },
  {
   "cell_type": "code",
   "execution_count": 3,
   "metadata": {
    "executionInfo": {
     "elapsed": 15,
     "status": "aborted",
     "timestamp": 1667642237988,
     "user": {
      "displayName": "Yj WEI",
      "userId": "09205277183220707996"
     },
     "user_tz": -480
    },
    "id": "zLFdbrlyOWiT",
    "vscode": {
     "languageId": "python"
    }
   },
   "outputs": [
    {
     "name": "stdout",
     "output_type": "stream",
     "text": [
      "hahaha\n"
     ]
    }
   ],
   "source": [
    "# Testing the module functionality\n",
    "from comp4222 import b\n",
    "comp4222.b.ok()"
   ]
  },
  {
   "cell_type": "markdown",
   "metadata": {
    "id": "dkgjzCmnWXUw"
   },
   "source": [
    "# 2 MovieLens\n"
   ]
  },
  {
   "cell_type": "markdown",
   "metadata": {
    "id": "Mq_PrL0LZrGa"
   },
   "source": [
    "We're using ml-100k from MovieLens. It contains 100000 ratings from 943 users on 1682 movies. Each user has rated at least 20 movies. And the data was collected during the seven-month period from September 19th, 1997 through April 22nd, 1998. The readme.md is avaliable [here](https://files.grouplens.org/datasets/movielens/ml-100k-README.txt).\n",
    "\n",
    "P.s. As for now, we're using the provided code for dataset loading defined by lightgcn and microsoft recommender repository."
   ]
  },
  {
   "cell_type": "markdown",
   "metadata": {
    "id": "g_XRmlt-yMUu"
   },
   "source": [
    "## Data Loading"
   ]
  },
  {
   "cell_type": "code",
   "execution_count": null,
   "metadata": {
    "executionInfo": {
     "elapsed": 16,
     "status": "aborted",
     "timestamp": 1667642237989,
     "user": {
      "displayName": "Yj WEI",
      "userId": "09205277183220707996"
     },
     "user_tz": -480
    },
    "id": "Vt7THxaKWZDv",
    "vscode": {
     "languageId": "python"
    }
   },
   "outputs": [],
   "source": [
    "# Download MovieLens data.\n",
    "dataset_name = \"ml-latest-small\"\n",
    "from urllib.request import urlretrieve\n",
    "import zipfile\n",
    "urlretrieve(f\"https://files.grouplens.org/datasets/movielens/{dataset_name}.zip\", \"movielens.zip\")\n",
    "zipfile.ZipFile(\"movielens.zip\", \"r\").extractall()"
   ]
  },
  {
   "cell_type": "code",
   "execution_count": null,
   "metadata": {
    "executionInfo": {
     "elapsed": 15,
     "status": "aborted",
     "timestamp": 1667642237989,
     "user": {
      "displayName": "Yj WEI",
      "userId": "09205277183220707996"
     },
     "user_tz": -480
    },
    "id": "vhrmXmjSh5jf",
    "vscode": {
     "languageId": "python"
    }
   },
   "outputs": [],
   "source": [
    "movies = pd.read_csv(f\"{dataset_name}/movies.csv\")\n",
    "genre_cols = [\n",
    "    \"(no genres listed)\", \"Action\", \"Adventure\", \"Animation\", \"Children\", \"Comedy\",\n",
    "    \"Crime\", \"Documentary\", \"Drama\", \"Fantasy\", \"Film-Noir\", \"Horror\",\n",
    "    \"Musical\", \"Mystery\", \"Romance\", \"Sci-Fi\", \"Thriller\", \"War\", \"Western\"\n",
    "]\n",
    "movies"
   ]
  },
  {
   "cell_type": "code",
   "execution_count": null,
   "metadata": {
    "executionInfo": {
     "elapsed": 16,
     "status": "aborted",
     "timestamp": 1667642237990,
     "user": {
      "displayName": "Yj WEI",
      "userId": "09205277183220707996"
     },
     "user_tz": -480
    },
    "id": "HipV8C2ziAUh",
    "vscode": {
     "languageId": "python"
    }
   },
   "outputs": [],
   "source": [
    "tags = pd.read_csv(f\"{dataset_name}/tags.csv\")\n",
    "tags"
   ]
  },
  {
   "cell_type": "code",
   "execution_count": null,
   "metadata": {
    "executionInfo": {
     "elapsed": 16,
     "status": "aborted",
     "timestamp": 1667642237990,
     "user": {
      "displayName": "Yj WEI",
      "userId": "09205277183220707996"
     },
     "user_tz": -480
    },
    "id": "RF0KOsiadLM1",
    "vscode": {
     "languageId": "python"
    }
   },
   "outputs": [],
   "source": [
    "ratings = pd.read_csv(f\"{dataset_name}/ratings.csv\")\n",
    "ratings"
   ]
  },
  {
   "cell_type": "markdown",
   "metadata": {
    "id": "giSgiu7jyO04"
   },
   "source": [
    "## Data Exploration"
   ]
  },
  {
   "cell_type": "code",
   "execution_count": null,
   "metadata": {
    "executionInfo": {
     "elapsed": 16,
     "status": "aborted",
     "timestamp": 1667642237991,
     "user": {
      "displayName": "Yj WEI",
      "userId": "09205277183220707996"
     },
     "user_tz": -480
    },
    "id": "i5tJTHDFXmd7",
    "vscode": {
     "languageId": "python"
    }
   },
   "outputs": [],
   "source": [
    "#%pip install altair\n",
    "import altair as alt\n",
    "alt.data_transformers.enable('default', max_rows=None)\n",
    "alt.renderers.enable('colab')"
   ]
  },
  {
   "cell_type": "markdown",
   "metadata": {
    "id": "yIDqnYvByqGx"
   },
   "source": [
    "# 3 Preliminaries\n",
    "\n",
    "There's no much symbol to be defined at this stage."
   ]
  },
  {
   "cell_type": "markdown",
   "metadata": {
    "id": "OzxFHwzLy2vU"
   },
   "source": [
    "# 4 Models Definition"
   ]
  },
  {
   "cell_type": "code",
   "execution_count": 4,
   "metadata": {
    "colab": {
     "base_uri": "https://localhost:8080/",
     "height": 377
    },
    "executionInfo": {
     "elapsed": 473,
     "status": "error",
     "timestamp": 1667642260421,
     "user": {
      "displayName": "Yj WEI",
      "userId": "09205277183220707996"
     },
     "user_tz": -480
    },
    "id": "U0Q4UEcMy6g6",
    "outputId": "62577a20-91f8-43cf-8ea8-5d9138fa711a",
    "vscode": {
     "languageId": "python"
    }
   },
   "outputs": [],
   "source": [
    "from recommenders.utils.timer import Timer\n",
    "from recommenders.models.deeprec.deeprec_utils import prepare_hparams\n",
    "from recommenders.utils.constants import (\n",
    "COL_DICT,\n",
    "    DEFAULT_K,\n",
    "    DEFAULT_USER_COL,\n",
    "    DEFAULT_ITEM_COL,\n",
    "    DEFAULT_RATING_COL,\n",
    "    DEFAULT_PREDICTION_COL,\n",
    "    DEFAULT_TIMESTAMP_COL,\n",
    "    SEED,\n",
    ")\n",
    "\n",
    "# Helpers\n",
    "import os\n",
    "from tempfile import TemporaryDirectory\n",
    "tmp_dir = TemporaryDirectory()\n",
    "TRAIN_FILE = os.path.join(tmp_dir.name, \"df_train.csv\")\n",
    "TEST_FILE = os.path.join(tmp_dir.name, \"df_test.csv\")\n",
    "\n",
    "from recommenders.evaluation.python_evaluation import (\n",
    "    map_at_k,\n",
    "    ndcg_at_k,\n",
    "    precision_at_k,\n",
    "    recall_at_k,\n",
    ")\n",
    "def ranking_metrics_python(test, predictions, k=DEFAULT_K):\n",
    "    return {\n",
    "        \"MAP\": map_at_k(test, predictions, k=k, **COL_DICT),\n",
    "        \"nDCG@k\": ndcg_at_k(test, predictions, k=k, **COL_DICT),\n",
    "        \"Precision@k\": precision_at_k(test, predictions, k=k, **COL_DICT),\n",
    "        \"Recall@k\": recall_at_k(test, predictions, k=k, **COL_DICT),\n",
    "    }\n"
   ]
  },
  {
   "cell_type": "code",
   "execution_count": 5,
   "metadata": {
    "colab": {
     "base_uri": "https://localhost:8080/",
     "height": 377
    },
    "executionInfo": {
     "elapsed": 6,
     "status": "error",
     "timestamp": 1667642261027,
     "user": {
      "displayName": "Yj WEI",
      "userId": "09205277183220707996"
     },
     "user_tz": -480
    },
    "id": "kBSE8h2MzB16",
    "outputId": "cfd4e3c0-5af3-4a2d-f1ea-dddfcadbd897",
    "vscode": {
     "languageId": "python"
    }
   },
   "outputs": [
    {
     "name": "stderr",
     "output_type": "stream",
     "text": [
      "Setting default log level to \"WARN\".\n",
      "To adjust logging level use sc.setLogLevel(newLevel). For SparkR, use setLogLevel(newLevel).\n"
     ]
    },
    {
     "name": "stdout",
     "output_type": "stream",
     "text": [
      "22/12/13 23:32:01 WARN NativeCodeLoader: Unable to load native-hadoop library for your platform... using builtin-java classes where applicable\n"
     ]
    },
    {
     "data": {
      "text/plain": [
       "<torch._C.Generator at 0x7f41ee51c030>"
      ]
     },
     "execution_count": 5,
     "metadata": {},
     "output_type": "execute_result"
    }
   ],
   "source": [
    "from recommenders.utils.spark_utils import start_or_get_spark\n",
    "spark = start_or_get_spark(\"PySpark\", memory=\"32g\")\n",
    "spark.conf.set(\"spark.sql.analyzer.failAmbiguousSelfJoin\", \"false\")\n",
    "\n",
    "from recommenders.datasets import movielens\n",
    "from recommenders.datasets.python_splitters import python_stratified_split\n",
    "import os\n",
    "\n",
    "# fix random seeds to make sure out runs are reproducible\n",
    "np.random.seed(SEED)\n",
    "torch.manual_seed(SEED)\n",
    "torch.cuda.manual_seed_all(SEED)"
   ]
  },
  {
   "cell_type": "markdown",
   "metadata": {
    "id": "3ik1fSYis21e"
   },
   "source": [
    "## ALS"
   ]
  },
  {
   "cell_type": "code",
   "execution_count": 14,
   "metadata": {
    "executionInfo": {
     "elapsed": 6,
     "status": "aborted",
     "timestamp": 1667642261028,
     "user": {
      "displayName": "Yj WEI",
      "userId": "09205277183220707996"
     },
     "user_tz": -480
    },
    "id": "etb1IkQvs3FU",
    "vscode": {
     "languageId": "python"
    }
   },
   "outputs": [],
   "source": [
    "from pyspark.sql.types import StructType, StructField\n",
    "from pyspark.sql.types import FloatType, IntegerType, LongType\n",
    "from pyspark.ml.recommendation import ALS\n",
    "\n",
    "\n",
    "def prepare_training_als(train, test):\n",
    "    schema = StructType(\n",
    "        (\n",
    "            StructField(DEFAULT_USER_COL, IntegerType()),\n",
    "            StructField(DEFAULT_ITEM_COL, IntegerType()),\n",
    "            StructField(DEFAULT_RATING_COL, FloatType()),\n",
    "            StructField(DEFAULT_TIMESTAMP_COL, LongType()),\n",
    "        )\n",
    "    )\n",
    "    spark = start_or_get_spark()\n",
    "    return spark.createDataFrame(train, schema).cache()\n",
    "\n",
    "def prepare_metrics_als(train, test):\n",
    "    schema = StructType(\n",
    "        (\n",
    "            StructField(DEFAULT_USER_COL, IntegerType()),\n",
    "            StructField(DEFAULT_ITEM_COL, IntegerType()),\n",
    "            StructField(DEFAULT_RATING_COL, FloatType()),\n",
    "            StructField(DEFAULT_TIMESTAMP_COL, LongType()),\n",
    "        )\n",
    "    )\n",
    "    spark = start_or_get_spark()\n",
    "    return spark.createDataFrame(train, schema).cache(), spark.createDataFrame(test, schema).cache()\n",
    "\n",
    "def predict_als(model, test):\n",
    "    with Timer() as t:\n",
    "        preds = model.transform(test)\n",
    "    return preds, t\n",
    "\n",
    "def train_als(params, data):\n",
    "    symbol = ALS(**params)\n",
    "    with Timer() as t:\n",
    "        model = symbol.fit(data)\n",
    "    return model, t\n",
    "\n",
    "def recommend_k_als(model, test, train, top_k=DEFAULT_K, remove_seen=True):\n",
    "    with Timer() as t:\n",
    "        # Get the cross join of all user-item pairs and score them.\n",
    "        users = train.select(DEFAULT_USER_COL).distinct()\n",
    "        items = train.select(DEFAULT_ITEM_COL).distinct()\n",
    "        user_item = users.crossJoin(items)\n",
    "        dfs_pred = model.transform(user_item)\n",
    "\n",
    "        # Remove seen items\n",
    "        dfs_pred_exclude_train = dfs_pred.alias(\"pred\").join(\n",
    "            train.alias(\"train\"),\n",
    "            (dfs_pred[DEFAULT_USER_COL] == train[DEFAULT_USER_COL])\n",
    "            & (dfs_pred[DEFAULT_ITEM_COL] == train[DEFAULT_ITEM_COL]),\n",
    "            how=\"outer\",\n",
    "        )\n",
    "        topk_scores = dfs_pred_exclude_train.filter(\n",
    "            dfs_pred_exclude_train[\"train.\" + DEFAULT_RATING_COL].isNull()\n",
    "        ).select(\n",
    "            \"pred.\" + DEFAULT_USER_COL,\n",
    "            \"pred.\" + DEFAULT_ITEM_COL,\n",
    "            \"pred.\" + DEFAULT_PREDICTION_COL,\n",
    "        )\n",
    "    return topk_scores, t\n",
    "\n",
    "\n",
    "als_params = {\n",
    "    \"rank\": 10,\n",
    "    \"maxIter\": 20,\n",
    "    \"implicitPrefs\": False,\n",
    "    \"alpha\": 0.1,\n",
    "    \"regParam\": 0.05,\n",
    "    \"coldStartStrategy\": \"drop\",\n",
    "    \"nonnegative\": False,\n",
    "    \"userCol\": DEFAULT_USER_COL,\n",
    "    \"itemCol\": DEFAULT_ITEM_COL,\n",
    "    \"ratingCol\": DEFAULT_RATING_COL,\n",
    "}"
   ]
  },
  {
   "cell_type": "markdown",
   "metadata": {
    "id": "M5QhzXoRr0b6"
   },
   "source": [
    "## NCF"
   ]
  },
  {
   "cell_type": "code",
   "execution_count": 15,
   "metadata": {
    "executionInfo": {
     "elapsed": 5,
     "status": "aborted",
     "timestamp": 1667642261028,
     "user": {
      "displayName": "Yj WEI",
      "userId": "09205277183220707996"
     },
     "user_tz": -480
    },
    "id": "28jUVetSy9As",
    "vscode": {
     "languageId": "python"
    }
   },
   "outputs": [],
   "source": [
    "from recommenders.models.ncf.ncf_singlenode import NCF\n",
    "from recommenders.models.ncf.dataset import Dataset as NCFDataset\n",
    "\n",
    "def prepare_training_ncf(df_train, df_test):\n",
    "    #df_train.sort_values([\"userID\"], axis=0, ascending=[True], inplace=True)\n",
    "    #df_test.sort_values([\"userID\"], axis=0, ascending=[True], inplace=True)\n",
    "    train = df_train.sort_values([\"userID\"], axis=0, ascending=[True])\n",
    "    test = df_test.sort_values([\"userID\"], axis=0, ascending=[True])\n",
    "    test = test[df_test[\"userID\"].isin(train[\"userID\"].unique())]\n",
    "    test = test[test[\"itemID\"].isin(train[\"itemID\"].unique())]\n",
    "    train.to_csv(TRAIN_FILE, index=False)\n",
    "    test.to_csv(TEST_FILE, index=False)\n",
    "    return NCFDataset(\n",
    "        train_file=TRAIN_FILE,\n",
    "        col_user=DEFAULT_USER_COL,\n",
    "        col_item=DEFAULT_ITEM_COL,\n",
    "        col_rating=DEFAULT_RATING_COL,\n",
    "        seed=SEED,\n",
    "    )\n",
    "\n",
    "\n",
    "def train_ncf(params, data):\n",
    "    model = NCF(n_users=data.n_users, n_items=data.n_items, **params)\n",
    "    with Timer() as t:\n",
    "        model.fit(data)\n",
    "    return model, t\n",
    "\n",
    "\n",
    "def recommend_k_ncf(model, test, train, top_k=DEFAULT_K, remove_seen=True):\n",
    "    with Timer() as t:\n",
    "        users, items, preds = [], [], []\n",
    "        item = list(train[DEFAULT_ITEM_COL].unique())\n",
    "        for user in train[DEFAULT_USER_COL].unique():\n",
    "            user = [user] * len(item)\n",
    "            users.extend(user)\n",
    "            items.extend(item)\n",
    "            preds.extend(list(model.predict(user, item, is_list=True)))\n",
    "        topk_scores = pd.DataFrame(\n",
    "            data={\n",
    "                DEFAULT_USER_COL: users,\n",
    "                DEFAULT_ITEM_COL: items,\n",
    "                DEFAULT_PREDICTION_COL: preds,\n",
    "            }\n",
    "        )\n",
    "        merged = pd.merge(\n",
    "            train, topk_scores, on=[DEFAULT_USER_COL, DEFAULT_ITEM_COL], how=\"outer\"\n",
    "        )\n",
    "        topk_scores = merged[merged[DEFAULT_RATING_COL].isnull()].drop(\n",
    "            DEFAULT_RATING_COL, axis=1\n",
    "        )\n",
    "    # Remove temp files\n",
    "    return topk_scores, t\n",
    "\n",
    "ncf_params = {\n",
    "    \"model_type\": \"NeuMF\",\n",
    "    \"n_factors\": 4,\n",
    "    \"layer_sizes\": [16, 8, 4],\n",
    "    \"n_epochs\": 20,\n",
    "    \"batch_size\": 1024,\n",
    "    \"learning_rate\": 1e-3,\n",
    "    \"verbose\": 10\n",
    "}"
   ]
  },
  {
   "cell_type": "code",
   "execution_count": null,
   "metadata": {
    "vscode": {
     "languageId": "python"
    }
   },
   "outputs": [],
   "source": []
  },
  {
   "cell_type": "markdown",
   "metadata": {
    "id": "pIDpds_1tSxY"
   },
   "source": [
    "## KGAT"
   ]
  },
  {
   "cell_type": "code",
   "execution_count": null,
   "metadata": {
    "executionInfo": {
     "elapsed": 6,
     "status": "aborted",
     "timestamp": 1667642261029,
     "user": {
      "displayName": "Yj WEI",
      "userId": "09205277183220707996"
     },
     "user_tz": -480
    },
    "id": "juTZLU9ktSxZ",
    "vscode": {
     "languageId": "python"
    }
   },
   "outputs": [],
   "source": [
    "#%pip install easydict\n",
    "import os\n",
    "import sys\n",
    "import random\n",
    "from time import time\n",
    "\n",
    "import pandas as pd\n",
    "from tqdm import tqdm\n",
    "import torch.nn as nn\n",
    "import torch.optim as optim\n",
    "\n",
    "from KGAT_folder.KGAT import KGAT\n",
    "from KGAT_folder.log_helper import *\n",
    "from KGAT_folder.parser_kgat import *\n",
    "from KGAT_folder.metrics import *\n",
    "from KGAT_folder.model_helper import *\n",
    "from KGAT_folder.loader_kgat import DataLoaderKGAT\n",
    "\n",
    "\n",
    "def train_kgat():\n",
    "    args = parse_kgat_args()\n",
    "    #train(args)\n",
    "    time0 = time()\n",
    "    model, data, Ks, device = train(args)\n",
    "    time1 = time()\n",
    "    t = time1-time0\n",
    "    return model, data, Ks, device, t\n",
    "\n",
    "def evaluate_kgat(model, dataloader, Ks, device):\n",
    "    test_batch_size = dataloader.test_batch_size\n",
    "    train_user_dict = dataloader.train_user_dict\n",
    "    test_user_dict = dataloader.test_user_dict\n",
    "\n",
    "    model.eval()\n",
    "\n",
    "    user_ids = list(test_user_dict.keys())\n",
    "    user_ids_batches = [user_ids[i: i + test_batch_size] for i in range(0, len(user_ids), test_batch_size)]\n",
    "    user_ids_batches = [torch.LongTensor(d) for d in user_ids_batches]\n",
    "\n",
    "    n_items = dataloader.n_items\n",
    "    item_ids = torch.arange(n_items, dtype=torch.long).to(device)\n",
    "\n",
    "    cf_scores = []\n",
    "    metric_names = ['precision', 'recall', 'ndcg']\n",
    "    metrics_dict = {k: {m: [] for m in metric_names} for k in Ks}\n",
    "\n",
    "    with tqdm(total=len(user_ids_batches), desc='Evaluating Iteration') as pbar:\n",
    "        for batch_user_ids in user_ids_batches:\n",
    "            batch_user_ids = batch_user_ids.to(device)\n",
    "\n",
    "            with torch.no_grad():\n",
    "                batch_scores = model(batch_user_ids, item_ids, mode='predict')       # (n_batch_users, n_items)\n",
    "\n",
    "            batch_scores = batch_scores.cpu()\n",
    "            batch_metrics = calc_metrics_at_k(batch_scores, train_user_dict, test_user_dict, batch_user_ids.cpu().numpy(), item_ids.cpu().numpy(), Ks)\n",
    "\n",
    "            cf_scores.append(batch_scores.numpy())\n",
    "            for k in Ks:\n",
    "                for m in metric_names:\n",
    "                    metrics_dict[k][m].append(batch_metrics[k][m])\n",
    "            pbar.update(1)\n",
    "\n",
    "    cf_scores = np.concatenate(cf_scores, axis=0)\n",
    "    for k in Ks:\n",
    "        for m in metric_names:\n",
    "            metrics_dict[k][m] = np.concatenate(metrics_dict[k][m]).mean()\n",
    "    return cf_scores, metrics_dict\n",
    "\n",
    "\n",
    "def train(args):\n",
    "    # seed\n",
    "    random.seed(args.seed)\n",
    "    np.random.seed(args.seed)\n",
    "    torch.manual_seed(args.seed)\n",
    "    torch.cuda.manual_seed_all(args.seed)\n",
    "\n",
    "    #log_save_id = create_log_id(args.save_dir)\n",
    "    #logging_config(folder=args.save_dir, name='log{:d}'.format(log_save_id), no_console=False)\n",
    "    #logging.info(args)\n",
    "\n",
    "    # GPU / CPU\n",
    "    device = torch.device(\"cuda\" if torch.cuda.is_available() else \"cpu\")\n",
    "\n",
    "    # load data\n",
    "    data = DataLoaderKGAT(args, logging)\n",
    "    if args.use_pretrain == 1:\n",
    "        user_pre_embed = torch.tensor(data.user_pre_embed)\n",
    "        item_pre_embed = torch.tensor(data.item_pre_embed)\n",
    "    else:\n",
    "        user_pre_embed, item_pre_embed = None, None\n",
    "\n",
    "    # construct model & optimizer\n",
    "    model = KGAT(args, data.n_users, data.n_entities, data.n_relations, data.A_in, user_pre_embed, item_pre_embed)\n",
    "    #if args.use_pretrain == 2:\n",
    "    #    model = load_model(model, args.pretrain_model_path)\n",
    "\n",
    "    model.to(device)\n",
    "    #logging.info(model)\n",
    "\n",
    "    cf_optimizer = optim.Adam(model.parameters(), lr=args.lr)\n",
    "    kg_optimizer = optim.Adam(model.parameters(), lr=args.lr)\n",
    "\n",
    "    # initialize metrics\n",
    "    best_epoch = -1\n",
    "    best_recall = 0\n",
    "\n",
    "    Ks = eval(args.Ks)\n",
    "    k_min = min(Ks)\n",
    "    k_max = max(Ks)\n",
    "\n",
    "    epoch_list = []\n",
    "    metrics_list = {k: {'precision': [], 'recall': [], 'ndcg': []} for k in Ks}\n",
    "\n",
    "    # train model\n",
    "    for epoch in range(1, args.n_epoch + 1):\n",
    "        time0 = time()\n",
    "        model.train()\n",
    "\n",
    "        # train cf\n",
    "        time1 = time()\n",
    "        cf_total_loss = 0\n",
    "        n_cf_batch = data.n_cf_train // data.cf_batch_size + 1\n",
    "\n",
    "        for iter in range(1, n_cf_batch + 1):\n",
    "            time2 = time()\n",
    "            cf_batch_user, cf_batch_pos_item, cf_batch_neg_item = data.generate_cf_batch(data.train_user_dict, data.cf_batch_size)\n",
    "            cf_batch_user = cf_batch_user.to(device)\n",
    "            cf_batch_pos_item = cf_batch_pos_item.to(device)\n",
    "            cf_batch_neg_item = cf_batch_neg_item.to(device)\n",
    "\n",
    "            cf_batch_loss = model(cf_batch_user, cf_batch_pos_item, cf_batch_neg_item, mode='train_cf')\n",
    "\n",
    "            if np.isnan(cf_batch_loss.cpu().detach().numpy()):\n",
    "                logging.info('ERROR (CF Training): Epoch {:04d} Iter {:04d} / {:04d} Loss is nan.'.format(epoch, iter, n_cf_batch))\n",
    "                sys.exit()\n",
    "\n",
    "            cf_batch_loss.backward()\n",
    "            cf_optimizer.step()\n",
    "            cf_optimizer.zero_grad()\n",
    "            cf_total_loss += cf_batch_loss.item()\n",
    "\n",
    "            if (iter % args.cf_print_every) == 0:\n",
    "                logging.info('CF Training: Epoch {:04d} Iter {:04d} / {:04d} | Time {:.1f}s | Iter Loss {:.4f} | Iter Mean Loss {:.4f}'.format(epoch, iter, n_cf_batch, time() - time2, cf_batch_loss.item(), cf_total_loss / iter))\n",
    "        logging.info('CF Training: Epoch {:04d} Total Iter {:04d} | Total Time {:.1f}s | Iter Mean Loss {:.4f}'.format(epoch, n_cf_batch, time() - time1, cf_total_loss / n_cf_batch))\n",
    "\n",
    "        # train kg\n",
    "        time3 = time()\n",
    "        kg_total_loss = 0\n",
    "        n_kg_batch = data.n_kg_train // data.kg_batch_size + 1\n",
    "\n",
    "        for iter in range(1, n_kg_batch + 1):\n",
    "            time4 = time()\n",
    "            kg_batch_head, kg_batch_relation, kg_batch_pos_tail, kg_batch_neg_tail = data.generate_kg_batch(data.train_kg_dict, data.kg_batch_size, data.n_users_entities)\n",
    "            kg_batch_head = kg_batch_head.to(device)\n",
    "            kg_batch_relation = kg_batch_relation.to(device)\n",
    "            kg_batch_pos_tail = kg_batch_pos_tail.to(device)\n",
    "            kg_batch_neg_tail = kg_batch_neg_tail.to(device)\n",
    "\n",
    "            kg_batch_loss = model(kg_batch_head, kg_batch_relation, kg_batch_pos_tail, kg_batch_neg_tail, mode='train_kg')\n",
    "\n",
    "            if np.isnan(kg_batch_loss.cpu().detach().numpy()):\n",
    "                logging.info('ERROR (KG Training): Epoch {:04d} Iter {:04d} / {:04d} Loss is nan.'.format(epoch, iter, n_kg_batch))\n",
    "                sys.exit()\n",
    "\n",
    "            kg_batch_loss.backward()\n",
    "            kg_optimizer.step()\n",
    "            kg_optimizer.zero_grad()\n",
    "            kg_total_loss += kg_batch_loss.item()\n",
    "\n",
    "            if (iter % args.kg_print_every) == 0:\n",
    "                logging.info('KG Training: Epoch {:04d} Iter {:04d} / {:04d} | Time {:.1f}s | Iter Loss {:.4f} | Iter Mean Loss {:.4f}'.format(epoch, iter, n_kg_batch, time() - time4, kg_batch_loss.item(), kg_total_loss / iter))\n",
    "        logging.info('KG Training: Epoch {:04d} Total Iter {:04d} | Total Time {:.1f}s | Iter Mean Loss {:.4f}'.format(epoch, n_kg_batch, time() - time3, kg_total_loss / n_kg_batch))\n",
    "\n",
    "        # update attention\n",
    "        time5 = time()\n",
    "        h_list = data.h_list.to(device)\n",
    "        t_list = data.t_list.to(device)\n",
    "        r_list = data.r_list.to(device)\n",
    "        relations = list(data.laplacian_dict.keys())\n",
    "        model(h_list, t_list, r_list, relations, mode='update_att')\n",
    "        logging.info('Update Attention: Epoch {:04d} | Total Time {:.1f}s'.format(epoch, time() - time5))\n",
    "\n",
    "        logging.info('CF + KG Training: Epoch {:04d} | Total Time {:.1f}s'.format(epoch, time() - time0))\n",
    "    return model, data, Ks, device\n"
   ]
  },
  {
   "cell_type": "code",
   "execution_count": null,
   "metadata": {
    "vscode": {
     "languageId": "python"
    }
   },
   "outputs": [],
   "source": [
    "print(f\"\\nComputing {'KGAT'} algorithm on Movielens {'100k'}\")\n",
    "model, data, Ks, device, time_train = train_kgat()\n",
    "print('time_train: ', time_train)\n",
    "_, metrics_dict_kgat = evaluate_kgat(model, data, Ks, device)\n",
    "print(metrics_dict_kgat)"
   ]
  },
  {
   "cell_type": "markdown",
   "metadata": {
    "id": "QsJmgwgNsBE8"
   },
   "source": [
    "## LightGCN"
   ]
  },
  {
   "cell_type": "markdown",
   "metadata": {},
   "source": [
    "### Tuning alpha_ks(old)"
   ]
  },
  {
   "cell_type": "code",
   "execution_count": 16,
   "metadata": {
    "vscode": {
     "languageId": "python"
    }
   },
   "outputs": [
    {
     "name": "stderr",
     "output_type": "stream",
     "text": [
      "INFO:py4j.clientserver:Error while sending or receiving.\n",
      "Traceback (most recent call last):\n",
      "  File \"/data/yzhanglo/miniconda/envs/cu101/lib/python3.8/site-packages/py4j/clientserver.py\", line 503, in send_command\n",
      "    self.socket.sendall(command.encode(\"utf-8\"))\n",
      "ConnectionResetError: [Errno 104] Connection reset by peer\n",
      "INFO:py4j.clientserver:Closing down clientserver connection\n",
      "INFO:root:Exception while sending command.\n",
      "Traceback (most recent call last):\n",
      "  File \"/data/yzhanglo/miniconda/envs/cu101/lib/python3.8/site-packages/py4j/clientserver.py\", line 503, in send_command\n",
      "    self.socket.sendall(command.encode(\"utf-8\"))\n",
      "ConnectionResetError: [Errno 104] Connection reset by peer\n",
      "\n",
      "During handling of the above exception, another exception occurred:\n",
      "\n",
      "Traceback (most recent call last):\n",
      "  File \"/data/yzhanglo/miniconda/envs/cu101/lib/python3.8/site-packages/py4j/java_gateway.py\", line 1038, in send_command\n",
      "    response = connection.send_command(command)\n",
      "  File \"/data/yzhanglo/miniconda/envs/cu101/lib/python3.8/site-packages/py4j/clientserver.py\", line 506, in send_command\n",
      "    raise Py4JNetworkError(\n",
      "py4j.protocol.Py4JNetworkError: Error while sending\n",
      "INFO:py4j.clientserver:Closing down clientserver connection\n",
      "INFO:tensorboardX.summary:Summary name Test/Recall@[20, 40, 60] is illegal; using Test/Recall__20__40__60_ instead.\n",
      "INFO:tensorboardX.summary:Summary name Test/Recall@[20, 40, 60] is illegal; using Test/Recall__20__40__60_ instead.\n",
      "INFO:tensorboardX.summary:Summary name Test/Recall@[20, 40, 60] is illegal; using Test/Recall__20__40__60_ instead.\n",
      "INFO:tensorboardX.summary:Summary name Test/Precision@[20, 40, 60] is illegal; using Test/Precision__20__40__60_ instead.\n"
     ]
    },
    {
     "name": "stdout",
     "output_type": "stream",
     "text": [
      "\u001b[0;30;43mstacking_func: 0\u001b[0m\n",
      "\u001b[0;30;43muse NORMAL distribution initilizer\u001b[0m\n",
      "loading adjacency matrix\n",
      "lgn is already to go(dropout:0)\n",
      "load and save to ./LightGCN/code/checkpoints/lgn-movielens-3-64.pth.tar\n",
      "we have tensorboard!\n",
      "\u001b[0;30;43m[TEST]\u001b[0m\n"
     ]
    },
    {
     "name": "stderr",
     "output_type": "stream",
     "text": [
      "INFO:tensorboardX.summary:Summary name Test/Precision@[20, 40, 60] is illegal; using Test/Precision__20__40__60_ instead.\n",
      "INFO:tensorboardX.summary:Summary name Test/Precision@[20, 40, 60] is illegal; using Test/Precision__20__40__60_ instead.\n",
      "INFO:tensorboardX.summary:Summary name Test/NDCG@[20, 40, 60] is illegal; using Test/NDCG__20__40__60_ instead.\n",
      "INFO:tensorboardX.summary:Summary name Test/NDCG@[20, 40, 60] is illegal; using Test/NDCG__20__40__60_ instead.\n",
      "INFO:tensorboardX.summary:Summary name Test/NDCG@[20, 40, 60] is illegal; using Test/NDCG__20__40__60_ instead.\n"
     ]
    },
    {
     "name": "stdout",
     "output_type": "stream",
     "text": [
      "{'precision': array([0.01765351, 0.01781798, 0.01754386]), 'recall': array([0.0146577 , 0.0286584 , 0.04074619]), 'ndcg': array([0.02030313, 0.02466048, 0.02908808])}\n",
      "EPOCH[1/500] loss0.690-|Sample:1.04|\n",
      "EPOCH[2/500] loss0.675-|Sample:0.66|\n",
      "EPOCH[3/500] loss0.609-|Sample:0.49|\n",
      "EPOCH[4/500] loss0.501-|Sample:0.72|\n",
      "EPOCH[5/500] loss0.413-|Sample:0.49|\n",
      "EPOCH[6/500] loss0.365-|Sample:0.49|\n",
      "EPOCH[7/500] loss0.330-|Sample:0.73|\n",
      "EPOCH[8/500] loss0.315-|Sample:0.49|\n",
      "EPOCH[9/500] loss0.303-|Sample:0.57|\n"
     ]
    },
    {
     "name": "stderr",
     "output_type": "stream",
     "text": [
      "INFO:tensorboardX.summary:Summary name Test/Recall@[20, 40, 60] is illegal; using Test/Recall__20__40__60_ instead.\n",
      "INFO:tensorboardX.summary:Summary name Test/Recall@[20, 40, 60] is illegal; using Test/Recall__20__40__60_ instead.\n",
      "INFO:tensorboardX.summary:Summary name Test/Recall@[20, 40, 60] is illegal; using Test/Recall__20__40__60_ instead.\n",
      "INFO:tensorboardX.summary:Summary name Test/Precision@[20, 40, 60] is illegal; using Test/Precision__20__40__60_ instead.\n",
      "INFO:tensorboardX.summary:Summary name Test/Precision@[20, 40, 60] is illegal; using Test/Precision__20__40__60_ instead.\n",
      "INFO:tensorboardX.summary:Summary name Test/Precision@[20, 40, 60] is illegal; using Test/Precision__20__40__60_ instead.\n",
      "INFO:tensorboardX.summary:Summary name Test/NDCG@[20, 40, 60] is illegal; using Test/NDCG__20__40__60_ instead.\n",
      "INFO:tensorboardX.summary:Summary name Test/NDCG@[20, 40, 60] is illegal; using Test/NDCG__20__40__60_ instead.\n",
      "INFO:tensorboardX.summary:Summary name Test/NDCG@[20, 40, 60] is illegal; using Test/NDCG__20__40__60_ instead.\n"
     ]
    },
    {
     "name": "stdout",
     "output_type": "stream",
     "text": [
      "EPOCH[10/500] loss0.297-|Sample:0.79|\n",
      "\u001b[0;30;43m[TEST]\u001b[0m\n",
      "{'precision': array([0.16480263, 0.13689693, 0.12225877]), 'recall': array([0.18331585, 0.27869215, 0.35636554]), 'ndcg': array([0.22810804, 0.24807356, 0.27279521])}\n",
      "EPOCH[11/500] loss0.291-|Sample:0.50|\n",
      "EPOCH[12/500] loss0.287-|Sample:0.50|\n",
      "EPOCH[13/500] loss0.287-|Sample:0.50|\n",
      "EPOCH[14/500] loss0.279-|Sample:0.72|\n",
      "EPOCH[15/500] loss0.282-|Sample:0.50|\n",
      "EPOCH[16/500] loss0.279-|Sample:0.52|\n",
      "EPOCH[17/500] loss0.277-|Sample:0.91|\n",
      "EPOCH[18/500] loss0.275-|Sample:0.50|\n",
      "EPOCH[19/500] loss0.271-|Sample:0.66|\n"
     ]
    },
    {
     "name": "stderr",
     "output_type": "stream",
     "text": [
      "INFO:tensorboardX.summary:Summary name Test/Recall@[20, 40, 60] is illegal; using Test/Recall__20__40__60_ instead.\n",
      "INFO:tensorboardX.summary:Summary name Test/Recall@[20, 40, 60] is illegal; using Test/Recall__20__40__60_ instead.\n",
      "INFO:tensorboardX.summary:Summary name Test/Recall@[20, 40, 60] is illegal; using Test/Recall__20__40__60_ instead.\n",
      "INFO:tensorboardX.summary:Summary name Test/Precision@[20, 40, 60] is illegal; using Test/Precision__20__40__60_ instead.\n",
      "INFO:tensorboardX.summary:Summary name Test/Precision@[20, 40, 60] is illegal; using Test/Precision__20__40__60_ instead.\n",
      "INFO:tensorboardX.summary:Summary name Test/Precision@[20, 40, 60] is illegal; using Test/Precision__20__40__60_ instead.\n",
      "INFO:tensorboardX.summary:Summary name Test/NDCG@[20, 40, 60] is illegal; using Test/NDCG__20__40__60_ instead.\n",
      "INFO:tensorboardX.summary:Summary name Test/NDCG@[20, 40, 60] is illegal; using Test/NDCG__20__40__60_ instead.\n",
      "INFO:tensorboardX.summary:Summary name Test/NDCG@[20, 40, 60] is illegal; using Test/NDCG__20__40__60_ instead.\n"
     ]
    },
    {
     "name": "stdout",
     "output_type": "stream",
     "text": [
      "EPOCH[20/500] loss0.266-|Sample:0.78|\n",
      "\u001b[0;30;43m[TEST]\u001b[0m\n",
      "{'precision': array([0.17061404, 0.14194079, 0.12584064]), 'recall': array([0.19956678, 0.29883411, 0.38010013]), 'ndcg': array([0.23971975, 0.26111026, 0.28639285])}\n",
      "EPOCH[21/500] loss0.265-|Sample:0.67|\n",
      "EPOCH[22/500] loss0.267-|Sample:0.66|\n",
      "EPOCH[23/500] loss0.262-|Sample:0.82|\n",
      "EPOCH[24/500] loss0.261-|Sample:0.58|\n",
      "EPOCH[25/500] loss0.260-|Sample:0.50|\n",
      "EPOCH[26/500] loss0.256-|Sample:0.86|\n",
      "EPOCH[27/500] loss0.249-|Sample:0.61|\n",
      "EPOCH[28/500] loss0.247-|Sample:0.80|\n",
      "EPOCH[29/500] loss0.249-|Sample:0.60|\n"
     ]
    },
    {
     "name": "stderr",
     "output_type": "stream",
     "text": [
      "INFO:tensorboardX.summary:Summary name Test/Recall@[20, 40, 60] is illegal; using Test/Recall__20__40__60_ instead.\n",
      "INFO:tensorboardX.summary:Summary name Test/Recall@[20, 40, 60] is illegal; using Test/Recall__20__40__60_ instead.\n",
      "INFO:tensorboardX.summary:Summary name Test/Recall@[20, 40, 60] is illegal; using Test/Recall__20__40__60_ instead.\n",
      "INFO:tensorboardX.summary:Summary name Test/Precision@[20, 40, 60] is illegal; using Test/Precision__20__40__60_ instead.\n",
      "INFO:tensorboardX.summary:Summary name Test/Precision@[20, 40, 60] is illegal; using Test/Precision__20__40__60_ instead.\n",
      "INFO:tensorboardX.summary:Summary name Test/Precision@[20, 40, 60] is illegal; using Test/Precision__20__40__60_ instead.\n",
      "INFO:tensorboardX.summary:Summary name Test/NDCG@[20, 40, 60] is illegal; using Test/NDCG__20__40__60_ instead.\n",
      "INFO:tensorboardX.summary:Summary name Test/NDCG@[20, 40, 60] is illegal; using Test/NDCG__20__40__60_ instead.\n",
      "INFO:tensorboardX.summary:Summary name Test/NDCG@[20, 40, 60] is illegal; using Test/NDCG__20__40__60_ instead.\n"
     ]
    },
    {
     "name": "stdout",
     "output_type": "stream",
     "text": [
      "EPOCH[30/500] loss0.244-|Sample:0.63|\n",
      "\u001b[0;30;43m[TEST]\u001b[0m\n",
      "{'precision': array([0.18377193, 0.15213816, 0.13505117]), 'recall': array([0.22002416, 0.32703814, 0.41269065]), 'ndcg': array([0.26273866, 0.28522315, 0.31184486])}\n",
      "EPOCH[31/500] loss0.246-|Sample:0.83|\n",
      "EPOCH[32/500] loss0.239-|Sample:0.50|\n",
      "EPOCH[33/500] loss0.239-|Sample:0.50|\n",
      "EPOCH[34/500] loss0.236-|Sample:0.66|\n",
      "EPOCH[35/500] loss0.232-|Sample:0.72|\n",
      "EPOCH[36/500] loss0.230-|Sample:0.78|\n",
      "EPOCH[37/500] loss0.232-|Sample:0.50|\n",
      "EPOCH[38/500] loss0.226-|Sample:0.71|\n",
      "EPOCH[39/500] loss0.226-|Sample:0.50|\n"
     ]
    },
    {
     "name": "stderr",
     "output_type": "stream",
     "text": [
      "INFO:tensorboardX.summary:Summary name Test/Recall@[20, 40, 60] is illegal; using Test/Recall__20__40__60_ instead.\n",
      "INFO:tensorboardX.summary:Summary name Test/Recall@[20, 40, 60] is illegal; using Test/Recall__20__40__60_ instead.\n",
      "INFO:tensorboardX.summary:Summary name Test/Recall@[20, 40, 60] is illegal; using Test/Recall__20__40__60_ instead.\n",
      "INFO:tensorboardX.summary:Summary name Test/Precision@[20, 40, 60] is illegal; using Test/Precision__20__40__60_ instead.\n",
      "INFO:tensorboardX.summary:Summary name Test/Precision@[20, 40, 60] is illegal; using Test/Precision__20__40__60_ instead.\n",
      "INFO:tensorboardX.summary:Summary name Test/Precision@[20, 40, 60] is illegal; using Test/Precision__20__40__60_ instead.\n",
      "INFO:tensorboardX.summary:Summary name Test/NDCG@[20, 40, 60] is illegal; using Test/NDCG__20__40__60_ instead.\n",
      "INFO:tensorboardX.summary:Summary name Test/NDCG@[20, 40, 60] is illegal; using Test/NDCG__20__40__60_ instead.\n",
      "INFO:tensorboardX.summary:Summary name Test/NDCG@[20, 40, 60] is illegal; using Test/NDCG__20__40__60_ instead.\n"
     ]
    },
    {
     "name": "stdout",
     "output_type": "stream",
     "text": [
      "EPOCH[40/500] loss0.227-|Sample:0.73|\n",
      "\u001b[0;30;43m[TEST]\u001b[0m\n",
      "{'precision': array([0.20175439, 0.16233553, 0.14364035]), 'recall': array([0.23515141, 0.35024502, 0.44089462]), 'ndcg': array([0.28659258, 0.30720502, 0.33461643])}\n",
      "EPOCH[41/500] loss0.223-|Sample:0.54|\n",
      "EPOCH[42/500] loss0.219-|Sample:0.50|\n",
      "EPOCH[43/500] loss0.221-|Sample:0.49|\n",
      "EPOCH[44/500] loss0.217-|Sample:0.71|\n",
      "EPOCH[45/500] loss0.217-|Sample:0.49|\n",
      "EPOCH[46/500] loss0.213-|Sample:0.49|\n",
      "EPOCH[47/500] loss0.213-|Sample:0.72|\n",
      "EPOCH[48/500] loss0.212-|Sample:0.49|\n",
      "EPOCH[49/500] loss0.209-|Sample:0.49|\n"
     ]
    },
    {
     "name": "stderr",
     "output_type": "stream",
     "text": [
      "INFO:tensorboardX.summary:Summary name Test/Recall@[20, 40, 60] is illegal; using Test/Recall__20__40__60_ instead.\n",
      "INFO:tensorboardX.summary:Summary name Test/Recall@[20, 40, 60] is illegal; using Test/Recall__20__40__60_ instead.\n",
      "INFO:tensorboardX.summary:Summary name Test/Recall@[20, 40, 60] is illegal; using Test/Recall__20__40__60_ instead.\n",
      "INFO:tensorboardX.summary:Summary name Test/Precision@[20, 40, 60] is illegal; using Test/Precision__20__40__60_ instead.\n",
      "INFO:tensorboardX.summary:Summary name Test/Precision@[20, 40, 60] is illegal; using Test/Precision__20__40__60_ instead.\n",
      "INFO:tensorboardX.summary:Summary name Test/Precision@[20, 40, 60] is illegal; using Test/Precision__20__40__60_ instead.\n",
      "INFO:tensorboardX.summary:Summary name Test/NDCG@[20, 40, 60] is illegal; using Test/NDCG__20__40__60_ instead.\n",
      "INFO:tensorboardX.summary:Summary name Test/NDCG@[20, 40, 60] is illegal; using Test/NDCG__20__40__60_ instead.\n",
      "INFO:tensorboardX.summary:Summary name Test/NDCG@[20, 40, 60] is illegal; using Test/NDCG__20__40__60_ instead.\n"
     ]
    },
    {
     "name": "stdout",
     "output_type": "stream",
     "text": [
      "EPOCH[50/500] loss0.211-|Sample:0.71|\n",
      "\u001b[0;30;43m[TEST]\u001b[0m\n",
      "{'precision': array([0.21184211, 0.17171053, 0.14831871]), 'recall': array([0.24691007, 0.36719035, 0.45827852]), 'ndcg': array([0.30068298, 0.32256732, 0.34810627])}\n",
      "EPOCH[51/500] loss0.206-|Sample:0.50|\n",
      "EPOCH[52/500] loss0.205-|Sample:0.49|\n",
      "EPOCH[53/500] loss0.202-|Sample:0.71|\n",
      "EPOCH[54/500] loss0.203-|Sample:0.49|\n",
      "EPOCH[55/500] loss0.203-|Sample:0.49|\n",
      "EPOCH[56/500] loss0.201-|Sample:0.72|\n",
      "EPOCH[57/500] loss0.201-|Sample:0.50|\n",
      "EPOCH[58/500] loss0.201-|Sample:0.73|\n",
      "EPOCH[59/500] loss0.198-|Sample:0.49|\n"
     ]
    },
    {
     "name": "stderr",
     "output_type": "stream",
     "text": [
      "INFO:tensorboardX.summary:Summary name Test/Recall@[20, 40, 60] is illegal; using Test/Recall__20__40__60_ instead.\n",
      "INFO:tensorboardX.summary:Summary name Test/Recall@[20, 40, 60] is illegal; using Test/Recall__20__40__60_ instead.\n",
      "INFO:tensorboardX.summary:Summary name Test/Recall@[20, 40, 60] is illegal; using Test/Recall__20__40__60_ instead.\n",
      "INFO:tensorboardX.summary:Summary name Test/Precision@[20, 40, 60] is illegal; using Test/Precision__20__40__60_ instead.\n",
      "INFO:tensorboardX.summary:Summary name Test/Precision@[20, 40, 60] is illegal; using Test/Precision__20__40__60_ instead.\n",
      "INFO:tensorboardX.summary:Summary name Test/Precision@[20, 40, 60] is illegal; using Test/Precision__20__40__60_ instead.\n",
      "INFO:tensorboardX.summary:Summary name Test/NDCG@[20, 40, 60] is illegal; using Test/NDCG__20__40__60_ instead.\n",
      "INFO:tensorboardX.summary:Summary name Test/NDCG@[20, 40, 60] is illegal; using Test/NDCG__20__40__60_ instead.\n",
      "INFO:tensorboardX.summary:Summary name Test/NDCG@[20, 40, 60] is illegal; using Test/NDCG__20__40__60_ instead.\n"
     ]
    },
    {
     "name": "stdout",
     "output_type": "stream",
     "text": [
      "EPOCH[60/500] loss0.200-|Sample:0.50|\n",
      "\u001b[0;30;43m[TEST]\u001b[0m\n",
      "{'precision': array([0.21546053, 0.17538377, 0.15098684]), 'recall': array([0.25129751, 0.37689463, 0.46530747]), 'ndcg': array([0.30601141, 0.32902565, 0.35393856])}\n",
      "EPOCH[61/500] loss0.194-|Sample:0.74|\n",
      "EPOCH[62/500] loss0.201-|Sample:0.50|\n",
      "EPOCH[63/500] loss0.191-|Sample:0.49|\n",
      "EPOCH[64/500] loss0.197-|Sample:0.50|\n",
      "EPOCH[65/500] loss0.194-|Sample:0.71|\n",
      "EPOCH[66/500] loss0.192-|Sample:0.49|\n",
      "EPOCH[67/500] loss0.194-|Sample:0.49|\n",
      "EPOCH[68/500] loss0.192-|Sample:0.71|\n",
      "EPOCH[69/500] loss0.190-|Sample:0.50|\n"
     ]
    },
    {
     "name": "stderr",
     "output_type": "stream",
     "text": [
      "INFO:tensorboardX.summary:Summary name Test/Recall@[20, 40, 60] is illegal; using Test/Recall__20__40__60_ instead.\n",
      "INFO:tensorboardX.summary:Summary name Test/Recall@[20, 40, 60] is illegal; using Test/Recall__20__40__60_ instead.\n",
      "INFO:tensorboardX.summary:Summary name Test/Recall@[20, 40, 60] is illegal; using Test/Recall__20__40__60_ instead.\n",
      "INFO:tensorboardX.summary:Summary name Test/Precision@[20, 40, 60] is illegal; using Test/Precision__20__40__60_ instead.\n",
      "INFO:tensorboardX.summary:Summary name Test/Precision@[20, 40, 60] is illegal; using Test/Precision__20__40__60_ instead.\n",
      "INFO:tensorboardX.summary:Summary name Test/Precision@[20, 40, 60] is illegal; using Test/Precision__20__40__60_ instead.\n",
      "INFO:tensorboardX.summary:Summary name Test/NDCG@[20, 40, 60] is illegal; using Test/NDCG__20__40__60_ instead.\n",
      "INFO:tensorboardX.summary:Summary name Test/NDCG@[20, 40, 60] is illegal; using Test/NDCG__20__40__60_ instead.\n",
      "INFO:tensorboardX.summary:Summary name Test/NDCG@[20, 40, 60] is illegal; using Test/NDCG__20__40__60_ instead.\n"
     ]
    },
    {
     "name": "stdout",
     "output_type": "stream",
     "text": [
      "EPOCH[70/500] loss0.194-|Sample:0.72|\n",
      "\u001b[0;30;43m[TEST]\u001b[0m\n",
      "{'precision': array([0.22017544, 0.17817982, 0.15266813]), 'recall': array([0.25423131, 0.38072111, 0.47016347]), 'ndcg': array([0.31005179, 0.33261831, 0.35726473])}\n",
      "EPOCH[71/500] loss0.188-|Sample:0.51|\n",
      "EPOCH[72/500] loss0.191-|Sample:0.65|\n",
      "EPOCH[73/500] loss0.189-|Sample:0.49|\n",
      "EPOCH[74/500] loss0.187-|Sample:0.98|\n",
      "EPOCH[75/500] loss0.185-|Sample:0.49|\n",
      "EPOCH[76/500] loss0.189-|Sample:0.49|\n",
      "EPOCH[77/500] loss0.187-|Sample:0.98|\n",
      "EPOCH[78/500] loss0.184-|Sample:0.50|\n",
      "EPOCH[79/500] loss0.189-|Sample:0.49|\n"
     ]
    },
    {
     "name": "stderr",
     "output_type": "stream",
     "text": [
      "INFO:tensorboardX.summary:Summary name Test/Recall@[20, 40, 60] is illegal; using Test/Recall__20__40__60_ instead.\n",
      "INFO:tensorboardX.summary:Summary name Test/Recall@[20, 40, 60] is illegal; using Test/Recall__20__40__60_ instead.\n",
      "INFO:tensorboardX.summary:Summary name Test/Recall@[20, 40, 60] is illegal; using Test/Recall__20__40__60_ instead.\n",
      "INFO:tensorboardX.summary:Summary name Test/Precision@[20, 40, 60] is illegal; using Test/Precision__20__40__60_ instead.\n",
      "INFO:tensorboardX.summary:Summary name Test/Precision@[20, 40, 60] is illegal; using Test/Precision__20__40__60_ instead.\n",
      "INFO:tensorboardX.summary:Summary name Test/Precision@[20, 40, 60] is illegal; using Test/Precision__20__40__60_ instead.\n",
      "INFO:tensorboardX.summary:Summary name Test/NDCG@[20, 40, 60] is illegal; using Test/NDCG__20__40__60_ instead.\n",
      "INFO:tensorboardX.summary:Summary name Test/NDCG@[20, 40, 60] is illegal; using Test/NDCG__20__40__60_ instead.\n",
      "INFO:tensorboardX.summary:Summary name Test/NDCG@[20, 40, 60] is illegal; using Test/NDCG__20__40__60_ instead.\n"
     ]
    },
    {
     "name": "stdout",
     "output_type": "stream",
     "text": [
      "EPOCH[80/500] loss0.185-|Sample:0.74|\n",
      "\u001b[0;30;43m[TEST]\u001b[0m\n",
      "{'precision': array([0.22357456, 0.18152412, 0.15504386]), 'recall': array([0.25736881, 0.38740076, 0.47709416]), 'ndcg': array([0.31351789, 0.33710709, 0.36147808])}\n",
      "EPOCH[81/500] loss0.182-|Sample:0.51|\n",
      "EPOCH[82/500] loss0.183-|Sample:0.49|\n",
      "EPOCH[83/500] loss0.180-|Sample:0.72|\n",
      "EPOCH[84/500] loss0.187-|Sample:0.49|\n",
      "EPOCH[85/500] loss0.173-|Sample:0.66|\n",
      "EPOCH[86/500] loss0.180-|Sample:0.88|\n",
      "EPOCH[87/500] loss0.177-|Sample:0.66|\n",
      "EPOCH[88/500] loss0.175-|Sample:0.88|\n",
      "EPOCH[89/500] loss0.178-|Sample:0.51|\n"
     ]
    },
    {
     "name": "stderr",
     "output_type": "stream",
     "text": [
      "INFO:tensorboardX.summary:Summary name Test/Recall@[20, 40, 60] is illegal; using Test/Recall__20__40__60_ instead.\n",
      "INFO:tensorboardX.summary:Summary name Test/Recall@[20, 40, 60] is illegal; using Test/Recall__20__40__60_ instead.\n",
      "INFO:tensorboardX.summary:Summary name Test/Recall@[20, 40, 60] is illegal; using Test/Recall__20__40__60_ instead.\n",
      "INFO:tensorboardX.summary:Summary name Test/Precision@[20, 40, 60] is illegal; using Test/Precision__20__40__60_ instead.\n",
      "INFO:tensorboardX.summary:Summary name Test/Precision@[20, 40, 60] is illegal; using Test/Precision__20__40__60_ instead.\n",
      "INFO:tensorboardX.summary:Summary name Test/Precision@[20, 40, 60] is illegal; using Test/Precision__20__40__60_ instead.\n",
      "INFO:tensorboardX.summary:Summary name Test/NDCG@[20, 40, 60] is illegal; using Test/NDCG__20__40__60_ instead.\n",
      "INFO:tensorboardX.summary:Summary name Test/NDCG@[20, 40, 60] is illegal; using Test/NDCG__20__40__60_ instead.\n",
      "INFO:tensorboardX.summary:Summary name Test/NDCG@[20, 40, 60] is illegal; using Test/NDCG__20__40__60_ instead.\n"
     ]
    },
    {
     "name": "stdout",
     "output_type": "stream",
     "text": [
      "EPOCH[90/500] loss0.174-|Sample:0.50|\n",
      "\u001b[0;30;43m[TEST]\u001b[0m\n",
      "{'precision': array([0.22817982, 0.18563596, 0.15782164]), 'recall': array([0.26165972, 0.3951292 , 0.48139537]), 'ndcg': array([0.31885826, 0.34342916, 0.3663724 ])}\n",
      "EPOCH[91/500] loss0.177-|Sample:0.88|\n",
      "EPOCH[92/500] loss0.177-|Sample:0.66|\n",
      "EPOCH[93/500] loss0.178-|Sample:0.49|\n",
      "EPOCH[94/500] loss0.173-|Sample:0.53|\n",
      "EPOCH[95/500] loss0.169-|Sample:0.78|\n",
      "EPOCH[96/500] loss0.169-|Sample:0.49|\n",
      "EPOCH[97/500] loss0.173-|Sample:0.49|\n",
      "EPOCH[98/500] loss0.171-|Sample:0.99|\n",
      "EPOCH[99/500] loss0.167-|Sample:0.49|\n"
     ]
    },
    {
     "name": "stderr",
     "output_type": "stream",
     "text": [
      "INFO:tensorboardX.summary:Summary name Test/Recall@[20, 40, 60] is illegal; using Test/Recall__20__40__60_ instead.\n",
      "INFO:tensorboardX.summary:Summary name Test/Recall@[20, 40, 60] is illegal; using Test/Recall__20__40__60_ instead.\n",
      "INFO:tensorboardX.summary:Summary name Test/Recall@[20, 40, 60] is illegal; using Test/Recall__20__40__60_ instead.\n",
      "INFO:tensorboardX.summary:Summary name Test/Precision@[20, 40, 60] is illegal; using Test/Precision__20__40__60_ instead.\n",
      "INFO:tensorboardX.summary:Summary name Test/Precision@[20, 40, 60] is illegal; using Test/Precision__20__40__60_ instead.\n",
      "INFO:tensorboardX.summary:Summary name Test/Precision@[20, 40, 60] is illegal; using Test/Precision__20__40__60_ instead.\n",
      "INFO:tensorboardX.summary:Summary name Test/NDCG@[20, 40, 60] is illegal; using Test/NDCG__20__40__60_ instead.\n",
      "INFO:tensorboardX.summary:Summary name Test/NDCG@[20, 40, 60] is illegal; using Test/NDCG__20__40__60_ instead.\n",
      "INFO:tensorboardX.summary:Summary name Test/NDCG@[20, 40, 60] is illegal; using Test/NDCG__20__40__60_ instead.\n"
     ]
    },
    {
     "name": "stdout",
     "output_type": "stream",
     "text": [
      "EPOCH[100/500] loss0.167-|Sample:0.72|\n",
      "\u001b[0;30;43m[TEST]\u001b[0m\n",
      "{'precision': array([0.23344298, 0.19073465, 0.16114766]), 'recall': array([0.26759667, 0.40343568, 0.49117505]), 'ndcg': array([0.32673271, 0.35231106, 0.37497816])}\n",
      "EPOCH[101/500] loss0.168-|Sample:0.51|\n",
      "EPOCH[102/500] loss0.171-|Sample:0.50|\n",
      "EPOCH[103/500] loss0.167-|Sample:0.49|\n",
      "EPOCH[104/500] loss0.167-|Sample:0.71|\n",
      "EPOCH[105/500] loss0.167-|Sample:0.50|\n",
      "EPOCH[106/500] loss0.158-|Sample:0.50|\n",
      "EPOCH[107/500] loss0.163-|Sample:0.82|\n",
      "EPOCH[108/500] loss0.164-|Sample:0.66|\n",
      "EPOCH[109/500] loss0.161-|Sample:0.66|\n"
     ]
    },
    {
     "name": "stderr",
     "output_type": "stream",
     "text": [
      "INFO:tensorboardX.summary:Summary name Test/Recall@[20, 40, 60] is illegal; using Test/Recall__20__40__60_ instead.\n",
      "INFO:tensorboardX.summary:Summary name Test/Recall@[20, 40, 60] is illegal; using Test/Recall__20__40__60_ instead.\n",
      "INFO:tensorboardX.summary:Summary name Test/Recall@[20, 40, 60] is illegal; using Test/Recall__20__40__60_ instead.\n",
      "INFO:tensorboardX.summary:Summary name Test/Precision@[20, 40, 60] is illegal; using Test/Precision__20__40__60_ instead.\n",
      "INFO:tensorboardX.summary:Summary name Test/Precision@[20, 40, 60] is illegal; using Test/Precision__20__40__60_ instead.\n",
      "INFO:tensorboardX.summary:Summary name Test/Precision@[20, 40, 60] is illegal; using Test/Precision__20__40__60_ instead.\n",
      "INFO:tensorboardX.summary:Summary name Test/NDCG@[20, 40, 60] is illegal; using Test/NDCG__20__40__60_ instead.\n",
      "INFO:tensorboardX.summary:Summary name Test/NDCG@[20, 40, 60] is illegal; using Test/NDCG__20__40__60_ instead.\n",
      "INFO:tensorboardX.summary:Summary name Test/NDCG@[20, 40, 60] is illegal; using Test/NDCG__20__40__60_ instead.\n"
     ]
    },
    {
     "name": "stdout",
     "output_type": "stream",
     "text": [
      "EPOCH[110/500] loss0.158-|Sample:0.89|\n",
      "\u001b[0;30;43m[TEST]\u001b[0m\n",
      "{'precision': array([0.24002193, 0.19407895, 0.16425439]), 'recall': array([0.27554705, 0.4081632 , 0.49878317]), 'ndcg': array([0.33515196, 0.35871558, 0.38224233])}\n",
      "EPOCH[111/500] loss0.159-|Sample:0.67|\n",
      "EPOCH[112/500] loss0.159-|Sample:0.67|\n",
      "EPOCH[113/500] loss0.157-|Sample:0.88|\n",
      "EPOCH[114/500] loss0.159-|Sample:0.66|\n",
      "EPOCH[115/500] loss0.159-|Sample:0.50|\n",
      "EPOCH[116/500] loss0.156-|Sample:0.74|\n",
      "EPOCH[117/500] loss0.155-|Sample:0.67|\n",
      "EPOCH[118/500] loss0.155-|Sample:0.94|\n",
      "EPOCH[119/500] loss0.158-|Sample:0.51|\n"
     ]
    },
    {
     "name": "stderr",
     "output_type": "stream",
     "text": [
      "INFO:tensorboardX.summary:Summary name Test/Recall@[20, 40, 60] is illegal; using Test/Recall__20__40__60_ instead.\n",
      "INFO:tensorboardX.summary:Summary name Test/Recall@[20, 40, 60] is illegal; using Test/Recall__20__40__60_ instead.\n",
      "INFO:tensorboardX.summary:Summary name Test/Recall@[20, 40, 60] is illegal; using Test/Recall__20__40__60_ instead.\n",
      "INFO:tensorboardX.summary:Summary name Test/Precision@[20, 40, 60] is illegal; using Test/Precision__20__40__60_ instead.\n",
      "INFO:tensorboardX.summary:Summary name Test/Precision@[20, 40, 60] is illegal; using Test/Precision__20__40__60_ instead.\n",
      "INFO:tensorboardX.summary:Summary name Test/Precision@[20, 40, 60] is illegal; using Test/Precision__20__40__60_ instead.\n",
      "INFO:tensorboardX.summary:Summary name Test/NDCG@[20, 40, 60] is illegal; using Test/NDCG__20__40__60_ instead.\n",
      "INFO:tensorboardX.summary:Summary name Test/NDCG@[20, 40, 60] is illegal; using Test/NDCG__20__40__60_ instead.\n",
      "INFO:tensorboardX.summary:Summary name Test/NDCG@[20, 40, 60] is illegal; using Test/NDCG__20__40__60_ instead.\n"
     ]
    },
    {
     "name": "stdout",
     "output_type": "stream",
     "text": [
      "EPOCH[120/500] loss0.157-|Sample:0.66|\n",
      "\u001b[0;30;43m[TEST]\u001b[0m\n",
      "{'precision': array([0.24638158, 0.19736842, 0.16725146]), 'recall': array([0.28015829, 0.41818998, 0.50894579]), 'ndcg': array([0.34239144, 0.3660485 , 0.38956319])}\n",
      "EPOCH[121/500] loss0.159-|Sample:0.74|\n",
      "EPOCH[122/500] loss0.153-|Sample:0.51|\n",
      "EPOCH[123/500] loss0.152-|Sample:0.50|\n",
      "EPOCH[124/500] loss0.152-|Sample:0.70|\n",
      "EPOCH[125/500] loss0.149-|Sample:0.73|\n",
      "EPOCH[126/500] loss0.154-|Sample:0.60|\n",
      "EPOCH[127/500] loss0.155-|Sample:0.50|\n",
      "EPOCH[128/500] loss0.151-|Sample:0.87|\n",
      "EPOCH[129/500] loss0.153-|Sample:0.50|\n"
     ]
    },
    {
     "name": "stderr",
     "output_type": "stream",
     "text": [
      "INFO:tensorboardX.summary:Summary name Test/Recall@[20, 40, 60] is illegal; using Test/Recall__20__40__60_ instead.\n",
      "INFO:tensorboardX.summary:Summary name Test/Recall@[20, 40, 60] is illegal; using Test/Recall__20__40__60_ instead.\n",
      "INFO:tensorboardX.summary:Summary name Test/Recall@[20, 40, 60] is illegal; using Test/Recall__20__40__60_ instead.\n",
      "INFO:tensorboardX.summary:Summary name Test/Precision@[20, 40, 60] is illegal; using Test/Precision__20__40__60_ instead.\n",
      "INFO:tensorboardX.summary:Summary name Test/Precision@[20, 40, 60] is illegal; using Test/Precision__20__40__60_ instead.\n",
      "INFO:tensorboardX.summary:Summary name Test/Precision@[20, 40, 60] is illegal; using Test/Precision__20__40__60_ instead.\n",
      "INFO:tensorboardX.summary:Summary name Test/NDCG@[20, 40, 60] is illegal; using Test/NDCG__20__40__60_ instead.\n",
      "INFO:tensorboardX.summary:Summary name Test/NDCG@[20, 40, 60] is illegal; using Test/NDCG__20__40__60_ instead.\n",
      "INFO:tensorboardX.summary:Summary name Test/NDCG@[20, 40, 60] is illegal; using Test/NDCG__20__40__60_ instead.\n"
     ]
    },
    {
     "name": "stdout",
     "output_type": "stream",
     "text": [
      "EPOCH[130/500] loss0.155-|Sample:0.89|\n",
      "\u001b[0;30;43m[TEST]\u001b[0m\n",
      "{'precision': array([0.2504386 , 0.19912281, 0.1688231 ]), 'recall': array([0.28508889, 0.42064072, 0.51172261]), 'ndcg': array([0.34692907, 0.36924323, 0.3930122 ])}\n",
      "EPOCH[131/500] loss0.149-|Sample:0.67|\n",
      "EPOCH[132/500] loss0.150-|Sample:0.73|\n",
      "EPOCH[133/500] loss0.146-|Sample:0.70|\n",
      "EPOCH[134/500] loss0.148-|Sample:0.78|\n",
      "EPOCH[135/500] loss0.146-|Sample:0.50|\n",
      "EPOCH[136/500] loss0.146-|Sample:0.63|\n",
      "EPOCH[137/500] loss0.144-|Sample:0.78|\n",
      "EPOCH[138/500] loss0.144-|Sample:0.49|\n",
      "EPOCH[139/500] loss0.144-|Sample:0.49|\n"
     ]
    },
    {
     "name": "stderr",
     "output_type": "stream",
     "text": [
      "INFO:tensorboardX.summary:Summary name Test/Recall@[20, 40, 60] is illegal; using Test/Recall__20__40__60_ instead.\n",
      "INFO:tensorboardX.summary:Summary name Test/Recall@[20, 40, 60] is illegal; using Test/Recall__20__40__60_ instead.\n",
      "INFO:tensorboardX.summary:Summary name Test/Recall@[20, 40, 60] is illegal; using Test/Recall__20__40__60_ instead.\n",
      "INFO:tensorboardX.summary:Summary name Test/Precision@[20, 40, 60] is illegal; using Test/Precision__20__40__60_ instead.\n",
      "INFO:tensorboardX.summary:Summary name Test/Precision@[20, 40, 60] is illegal; using Test/Precision__20__40__60_ instead.\n",
      "INFO:tensorboardX.summary:Summary name Test/Precision@[20, 40, 60] is illegal; using Test/Precision__20__40__60_ instead.\n",
      "INFO:tensorboardX.summary:Summary name Test/NDCG@[20, 40, 60] is illegal; using Test/NDCG__20__40__60_ instead.\n",
      "INFO:tensorboardX.summary:Summary name Test/NDCG@[20, 40, 60] is illegal; using Test/NDCG__20__40__60_ instead.\n",
      "INFO:tensorboardX.summary:Summary name Test/NDCG@[20, 40, 60] is illegal; using Test/NDCG__20__40__60_ instead.\n"
     ]
    },
    {
     "name": "stdout",
     "output_type": "stream",
     "text": [
      "EPOCH[140/500] loss0.144-|Sample:1.06|\n",
      "\u001b[0;30;43m[TEST]\u001b[0m\n",
      "{'precision': array([0.25230263, 0.20071272, 0.16948099]), 'recall': array([0.28704078, 0.42453192, 0.51491139]), 'ndcg': array([0.35031781, 0.37312971, 0.39654751])}\n",
      "EPOCH[141/500] loss0.142-|Sample:0.61|\n",
      "EPOCH[142/500] loss0.143-|Sample:0.49|\n",
      "EPOCH[143/500] loss0.142-|Sample:0.87|\n",
      "EPOCH[144/500] loss0.141-|Sample:0.65|\n",
      "EPOCH[145/500] loss0.145-|Sample:0.64|\n",
      "EPOCH[146/500] loss0.142-|Sample:0.73|\n",
      "EPOCH[147/500] loss0.143-|Sample:0.49|\n",
      "EPOCH[148/500] loss0.141-|Sample:0.94|\n",
      "EPOCH[149/500] loss0.142-|Sample:0.66|\n"
     ]
    },
    {
     "name": "stderr",
     "output_type": "stream",
     "text": [
      "INFO:tensorboardX.summary:Summary name Test/Recall@[20, 40, 60] is illegal; using Test/Recall__20__40__60_ instead.\n",
      "INFO:tensorboardX.summary:Summary name Test/Recall@[20, 40, 60] is illegal; using Test/Recall__20__40__60_ instead.\n",
      "INFO:tensorboardX.summary:Summary name Test/Recall@[20, 40, 60] is illegal; using Test/Recall__20__40__60_ instead.\n",
      "INFO:tensorboardX.summary:Summary name Test/Precision@[20, 40, 60] is illegal; using Test/Precision__20__40__60_ instead.\n",
      "INFO:tensorboardX.summary:Summary name Test/Precision@[20, 40, 60] is illegal; using Test/Precision__20__40__60_ instead.\n",
      "INFO:tensorboardX.summary:Summary name Test/Precision@[20, 40, 60] is illegal; using Test/Precision__20__40__60_ instead.\n",
      "INFO:tensorboardX.summary:Summary name Test/NDCG@[20, 40, 60] is illegal; using Test/NDCG__20__40__60_ instead.\n",
      "INFO:tensorboardX.summary:Summary name Test/NDCG@[20, 40, 60] is illegal; using Test/NDCG__20__40__60_ instead.\n",
      "INFO:tensorboardX.summary:Summary name Test/NDCG@[20, 40, 60] is illegal; using Test/NDCG__20__40__60_ instead.\n"
     ]
    },
    {
     "name": "stdout",
     "output_type": "stream",
     "text": [
      "EPOCH[150/500] loss0.143-|Sample:0.68|\n",
      "\u001b[0;30;43m[TEST]\u001b[0m\n",
      "{'precision': array([0.25208333, 0.20274123, 0.17061404]), 'recall': array([0.28476265, 0.4330104 , 0.51864008]), 'ndcg': array([0.35078957, 0.37751372, 0.39970955])}\n",
      "EPOCH[151/500] loss0.144-|Sample:0.81|\n",
      "EPOCH[152/500] loss0.135-|Sample:0.49|\n",
      "EPOCH[153/500] loss0.141-|Sample:0.66|\n",
      "EPOCH[154/500] loss0.141-|Sample:0.65|\n",
      "EPOCH[155/500] loss0.140-|Sample:0.74|\n",
      "EPOCH[156/500] loss0.144-|Sample:0.59|\n",
      "EPOCH[157/500] loss0.138-|Sample:0.49|\n",
      "EPOCH[158/500] loss0.139-|Sample:0.71|\n",
      "EPOCH[159/500] loss0.142-|Sample:0.64|\n"
     ]
    },
    {
     "name": "stderr",
     "output_type": "stream",
     "text": [
      "INFO:tensorboardX.summary:Summary name Test/Recall@[20, 40, 60] is illegal; using Test/Recall__20__40__60_ instead.\n",
      "INFO:tensorboardX.summary:Summary name Test/Recall@[20, 40, 60] is illegal; using Test/Recall__20__40__60_ instead.\n",
      "INFO:tensorboardX.summary:Summary name Test/Recall@[20, 40, 60] is illegal; using Test/Recall__20__40__60_ instead.\n",
      "INFO:tensorboardX.summary:Summary name Test/Precision@[20, 40, 60] is illegal; using Test/Precision__20__40__60_ instead.\n",
      "INFO:tensorboardX.summary:Summary name Test/Precision@[20, 40, 60] is illegal; using Test/Precision__20__40__60_ instead.\n",
      "INFO:tensorboardX.summary:Summary name Test/Precision@[20, 40, 60] is illegal; using Test/Precision__20__40__60_ instead.\n",
      "INFO:tensorboardX.summary:Summary name Test/NDCG@[20, 40, 60] is illegal; using Test/NDCG__20__40__60_ instead.\n",
      "INFO:tensorboardX.summary:Summary name Test/NDCG@[20, 40, 60] is illegal; using Test/NDCG__20__40__60_ instead.\n",
      "INFO:tensorboardX.summary:Summary name Test/NDCG@[20, 40, 60] is illegal; using Test/NDCG__20__40__60_ instead.\n"
     ]
    },
    {
     "name": "stdout",
     "output_type": "stream",
     "text": [
      "EPOCH[160/500] loss0.142-|Sample:0.93|\n",
      "\u001b[0;30;43m[TEST]\u001b[0m\n",
      "{'precision': array([0.25197368, 0.20350877, 0.17101608]), 'recall': array([0.28500823, 0.43513649, 0.51880769]), 'ndcg': array([0.35262757, 0.38055876, 0.4021362 ])}\n",
      "EPOCH[161/500] loss0.141-|Sample:0.66|\n",
      "EPOCH[162/500] loss0.140-|Sample:0.49|\n",
      "EPOCH[163/500] loss0.138-|Sample:0.49|\n",
      "EPOCH[164/500] loss0.136-|Sample:0.74|\n",
      "EPOCH[165/500] loss0.138-|Sample:0.66|\n",
      "EPOCH[166/500] loss0.137-|Sample:0.49|\n",
      "EPOCH[167/500] loss0.133-|Sample:0.88|\n",
      "EPOCH[168/500] loss0.133-|Sample:0.50|\n",
      "EPOCH[169/500] loss0.133-|Sample:0.49|\n"
     ]
    },
    {
     "name": "stderr",
     "output_type": "stream",
     "text": [
      "INFO:tensorboardX.summary:Summary name Test/Recall@[20, 40, 60] is illegal; using Test/Recall__20__40__60_ instead.\n",
      "INFO:tensorboardX.summary:Summary name Test/Recall@[20, 40, 60] is illegal; using Test/Recall__20__40__60_ instead.\n",
      "INFO:tensorboardX.summary:Summary name Test/Recall@[20, 40, 60] is illegal; using Test/Recall__20__40__60_ instead.\n",
      "INFO:tensorboardX.summary:Summary name Test/Precision@[20, 40, 60] is illegal; using Test/Precision__20__40__60_ instead.\n",
      "INFO:tensorboardX.summary:Summary name Test/Precision@[20, 40, 60] is illegal; using Test/Precision__20__40__60_ instead.\n",
      "INFO:tensorboardX.summary:Summary name Test/Precision@[20, 40, 60] is illegal; using Test/Precision__20__40__60_ instead.\n",
      "INFO:tensorboardX.summary:Summary name Test/NDCG@[20, 40, 60] is illegal; using Test/NDCG__20__40__60_ instead.\n",
      "INFO:tensorboardX.summary:Summary name Test/NDCG@[20, 40, 60] is illegal; using Test/NDCG__20__40__60_ instead.\n",
      "INFO:tensorboardX.summary:Summary name Test/NDCG@[20, 40, 60] is illegal; using Test/NDCG__20__40__60_ instead.\n"
     ]
    },
    {
     "name": "stdout",
     "output_type": "stream",
     "text": [
      "EPOCH[170/500] loss0.133-|Sample:0.88|\n",
      "\u001b[0;30;43m[TEST]\u001b[0m\n",
      "{'precision': array([0.25372807, 0.20400219, 0.17192982]), 'recall': array([0.28607619, 0.43703479, 0.52264017]), 'ndcg': array([0.35470558, 0.38239067, 0.40484962])}\n",
      "EPOCH[171/500] loss0.133-|Sample:0.73|\n",
      "EPOCH[172/500] loss0.135-|Sample:0.65|\n",
      "EPOCH[173/500] loss0.135-|Sample:0.91|\n",
      "EPOCH[174/500] loss0.133-|Sample:0.49|\n",
      "EPOCH[175/500] loss0.130-|Sample:0.49|\n",
      "EPOCH[176/500] loss0.134-|Sample:0.74|\n",
      "EPOCH[177/500] loss0.134-|Sample:0.50|\n",
      "EPOCH[178/500] loss0.133-|Sample:0.72|\n",
      "EPOCH[179/500] loss0.133-|Sample:0.49|\n"
     ]
    },
    {
     "name": "stderr",
     "output_type": "stream",
     "text": [
      "INFO:tensorboardX.summary:Summary name Test/Recall@[20, 40, 60] is illegal; using Test/Recall__20__40__60_ instead.\n",
      "INFO:tensorboardX.summary:Summary name Test/Recall@[20, 40, 60] is illegal; using Test/Recall__20__40__60_ instead.\n",
      "INFO:tensorboardX.summary:Summary name Test/Recall@[20, 40, 60] is illegal; using Test/Recall__20__40__60_ instead.\n",
      "INFO:tensorboardX.summary:Summary name Test/Precision@[20, 40, 60] is illegal; using Test/Precision__20__40__60_ instead.\n",
      "INFO:tensorboardX.summary:Summary name Test/Precision@[20, 40, 60] is illegal; using Test/Precision__20__40__60_ instead.\n",
      "INFO:tensorboardX.summary:Summary name Test/Precision@[20, 40, 60] is illegal; using Test/Precision__20__40__60_ instead.\n",
      "INFO:tensorboardX.summary:Summary name Test/NDCG@[20, 40, 60] is illegal; using Test/NDCG__20__40__60_ instead.\n",
      "INFO:tensorboardX.summary:Summary name Test/NDCG@[20, 40, 60] is illegal; using Test/NDCG__20__40__60_ instead.\n",
      "INFO:tensorboardX.summary:Summary name Test/NDCG@[20, 40, 60] is illegal; using Test/NDCG__20__40__60_ instead.\n"
     ]
    },
    {
     "name": "stdout",
     "output_type": "stream",
     "text": [
      "EPOCH[180/500] loss0.132-|Sample:0.65|\n",
      "\u001b[0;30;43m[TEST]\u001b[0m\n",
      "{'precision': array([0.25416667, 0.20526316, 0.17225877]), 'recall': array([0.28449052, 0.439863  , 0.52304329]), 'ndcg': array([0.35750215, 0.38659544, 0.40808802])}\n",
      "EPOCH[181/500] loss0.134-|Sample:0.73|\n",
      "EPOCH[182/500] loss0.134-|Sample:0.58|\n",
      "EPOCH[183/500] loss0.131-|Sample:0.49|\n",
      "EPOCH[184/500] loss0.133-|Sample:0.49|\n",
      "EPOCH[185/500] loss0.134-|Sample:0.70|\n",
      "EPOCH[186/500] loss0.128-|Sample:0.49|\n",
      "EPOCH[187/500] loss0.131-|Sample:0.49|\n",
      "EPOCH[188/500] loss0.134-|Sample:0.71|\n",
      "EPOCH[189/500] loss0.133-|Sample:0.49|\n"
     ]
    },
    {
     "name": "stderr",
     "output_type": "stream",
     "text": [
      "INFO:tensorboardX.summary:Summary name Test/Recall@[20, 40, 60] is illegal; using Test/Recall__20__40__60_ instead.\n",
      "INFO:tensorboardX.summary:Summary name Test/Recall@[20, 40, 60] is illegal; using Test/Recall__20__40__60_ instead.\n",
      "INFO:tensorboardX.summary:Summary name Test/Recall@[20, 40, 60] is illegal; using Test/Recall__20__40__60_ instead.\n",
      "INFO:tensorboardX.summary:Summary name Test/Precision@[20, 40, 60] is illegal; using Test/Precision__20__40__60_ instead.\n",
      "INFO:tensorboardX.summary:Summary name Test/Precision@[20, 40, 60] is illegal; using Test/Precision__20__40__60_ instead.\n",
      "INFO:tensorboardX.summary:Summary name Test/Precision@[20, 40, 60] is illegal; using Test/Precision__20__40__60_ instead.\n",
      "INFO:tensorboardX.summary:Summary name Test/NDCG@[20, 40, 60] is illegal; using Test/NDCG__20__40__60_ instead.\n",
      "INFO:tensorboardX.summary:Summary name Test/NDCG@[20, 40, 60] is illegal; using Test/NDCG__20__40__60_ instead.\n",
      "INFO:tensorboardX.summary:Summary name Test/NDCG@[20, 40, 60] is illegal; using Test/NDCG__20__40__60_ instead.\n"
     ]
    },
    {
     "name": "stdout",
     "output_type": "stream",
     "text": [
      "EPOCH[190/500] loss0.130-|Sample:0.72|\n",
      "\u001b[0;30;43m[TEST]\u001b[0m\n",
      "{'precision': array([0.25625   , 0.2060307 , 0.17295322]), 'recall': array([0.28882981, 0.44182854, 0.52575583]), 'ndcg': array([0.36034127, 0.38841837, 0.41015393])}\n",
      "EPOCH[191/500] loss0.127-|Sample:0.50|\n",
      "EPOCH[192/500] loss0.128-|Sample:0.49|\n",
      "EPOCH[193/500] loss0.134-|Sample:0.67|\n",
      "EPOCH[194/500] loss0.131-|Sample:0.72|\n",
      "EPOCH[195/500] loss0.132-|Sample:0.52|\n",
      "EPOCH[196/500] loss0.131-|Sample:0.69|\n",
      "EPOCH[197/500] loss0.132-|Sample:0.78|\n",
      "EPOCH[198/500] loss0.130-|Sample:0.49|\n",
      "EPOCH[199/500] loss0.126-|Sample:0.50|\n"
     ]
    },
    {
     "name": "stderr",
     "output_type": "stream",
     "text": [
      "INFO:tensorboardX.summary:Summary name Test/Recall@[20, 40, 60] is illegal; using Test/Recall__20__40__60_ instead.\n",
      "INFO:tensorboardX.summary:Summary name Test/Recall@[20, 40, 60] is illegal; using Test/Recall__20__40__60_ instead.\n",
      "INFO:tensorboardX.summary:Summary name Test/Recall@[20, 40, 60] is illegal; using Test/Recall__20__40__60_ instead.\n",
      "INFO:tensorboardX.summary:Summary name Test/Precision@[20, 40, 60] is illegal; using Test/Precision__20__40__60_ instead.\n",
      "INFO:tensorboardX.summary:Summary name Test/Precision@[20, 40, 60] is illegal; using Test/Precision__20__40__60_ instead.\n",
      "INFO:tensorboardX.summary:Summary name Test/Precision@[20, 40, 60] is illegal; using Test/Precision__20__40__60_ instead.\n",
      "INFO:tensorboardX.summary:Summary name Test/NDCG@[20, 40, 60] is illegal; using Test/NDCG__20__40__60_ instead.\n",
      "INFO:tensorboardX.summary:Summary name Test/NDCG@[20, 40, 60] is illegal; using Test/NDCG__20__40__60_ instead.\n",
      "INFO:tensorboardX.summary:Summary name Test/NDCG@[20, 40, 60] is illegal; using Test/NDCG__20__40__60_ instead.\n"
     ]
    },
    {
     "name": "stdout",
     "output_type": "stream",
     "text": [
      "EPOCH[200/500] loss0.128-|Sample:0.79|\n",
      "\u001b[0;30;43m[TEST]\u001b[0m\n",
      "{'precision': array([0.25690789, 0.20515351, 0.17342836]), 'recall': array([0.28862062, 0.44356184, 0.52592985]), 'ndcg': array([0.36062312, 0.38840491, 0.41077887])}\n",
      "EPOCH[201/500] loss0.129-|Sample:0.50|\n",
      "EPOCH[202/500] loss0.126-|Sample:0.50|\n",
      "EPOCH[203/500] loss0.128-|Sample:0.74|\n",
      "EPOCH[204/500] loss0.127-|Sample:0.49|\n",
      "EPOCH[205/500] loss0.126-|Sample:0.49|\n",
      "EPOCH[206/500] loss0.128-|Sample:0.76|\n",
      "EPOCH[207/500] loss0.126-|Sample:0.49|\n",
      "EPOCH[208/500] loss0.126-|Sample:0.79|\n",
      "EPOCH[209/500] loss0.128-|Sample:0.49|\n"
     ]
    },
    {
     "name": "stderr",
     "output_type": "stream",
     "text": [
      "INFO:tensorboardX.summary:Summary name Test/Recall@[20, 40, 60] is illegal; using Test/Recall__20__40__60_ instead.\n",
      "INFO:tensorboardX.summary:Summary name Test/Recall@[20, 40, 60] is illegal; using Test/Recall__20__40__60_ instead.\n",
      "INFO:tensorboardX.summary:Summary name Test/Recall@[20, 40, 60] is illegal; using Test/Recall__20__40__60_ instead.\n",
      "INFO:tensorboardX.summary:Summary name Test/Precision@[20, 40, 60] is illegal; using Test/Precision__20__40__60_ instead.\n",
      "INFO:tensorboardX.summary:Summary name Test/Precision@[20, 40, 60] is illegal; using Test/Precision__20__40__60_ instead.\n",
      "INFO:tensorboardX.summary:Summary name Test/Precision@[20, 40, 60] is illegal; using Test/Precision__20__40__60_ instead.\n",
      "INFO:tensorboardX.summary:Summary name Test/NDCG@[20, 40, 60] is illegal; using Test/NDCG__20__40__60_ instead.\n",
      "INFO:tensorboardX.summary:Summary name Test/NDCG@[20, 40, 60] is illegal; using Test/NDCG__20__40__60_ instead.\n",
      "INFO:tensorboardX.summary:Summary name Test/NDCG@[20, 40, 60] is illegal; using Test/NDCG__20__40__60_ instead.\n"
     ]
    },
    {
     "name": "stdout",
     "output_type": "stream",
     "text": [
      "EPOCH[210/500] loss0.129-|Sample:0.50|\n",
      "\u001b[0;30;43m[TEST]\u001b[0m\n",
      "{'precision': array([0.25592105, 0.20630482, 0.17423246]), 'recall': array([0.28629012, 0.44553195, 0.52897198]), 'ndcg': array([0.3612717 , 0.39141899, 0.41397261])}\n",
      "EPOCH[211/500] loss0.124-|Sample:0.76|\n",
      "EPOCH[212/500] loss0.128-|Sample:0.50|\n",
      "EPOCH[213/500] loss0.126-|Sample:0.63|\n",
      "EPOCH[214/500] loss0.127-|Sample:0.50|\n",
      "EPOCH[215/500] loss0.123-|Sample:1.01|\n",
      "EPOCH[216/500] loss0.123-|Sample:0.50|\n",
      "EPOCH[217/500] loss0.123-|Sample:0.50|\n",
      "EPOCH[218/500] loss0.125-|Sample:0.89|\n",
      "EPOCH[219/500] loss0.125-|Sample:0.65|\n"
     ]
    },
    {
     "name": "stderr",
     "output_type": "stream",
     "text": [
      "INFO:tensorboardX.summary:Summary name Test/Recall@[20, 40, 60] is illegal; using Test/Recall__20__40__60_ instead.\n",
      "INFO:tensorboardX.summary:Summary name Test/Recall@[20, 40, 60] is illegal; using Test/Recall__20__40__60_ instead.\n",
      "INFO:tensorboardX.summary:Summary name Test/Recall@[20, 40, 60] is illegal; using Test/Recall__20__40__60_ instead.\n",
      "INFO:tensorboardX.summary:Summary name Test/Precision@[20, 40, 60] is illegal; using Test/Precision__20__40__60_ instead.\n",
      "INFO:tensorboardX.summary:Summary name Test/Precision@[20, 40, 60] is illegal; using Test/Precision__20__40__60_ instead.\n",
      "INFO:tensorboardX.summary:Summary name Test/Precision@[20, 40, 60] is illegal; using Test/Precision__20__40__60_ instead.\n",
      "INFO:tensorboardX.summary:Summary name Test/NDCG@[20, 40, 60] is illegal; using Test/NDCG__20__40__60_ instead.\n",
      "INFO:tensorboardX.summary:Summary name Test/NDCG@[20, 40, 60] is illegal; using Test/NDCG__20__40__60_ instead.\n",
      "INFO:tensorboardX.summary:Summary name Test/NDCG@[20, 40, 60] is illegal; using Test/NDCG__20__40__60_ instead.\n"
     ]
    },
    {
     "name": "stdout",
     "output_type": "stream",
     "text": [
      "EPOCH[220/500] loss0.124-|Sample:0.87|\n",
      "\u001b[0;30;43m[TEST]\u001b[0m\n",
      "{'precision': array([0.25800439, 0.20652412, 0.1747076 ]), 'recall': array([0.28986082, 0.44695298, 0.53035703]), 'ndcg': array([0.36415837, 0.39304442, 0.41579326])}\n",
      "EPOCH[221/500] loss0.122-|Sample:0.66|\n",
      "EPOCH[222/500] loss0.123-|Sample:0.55|\n",
      "EPOCH[223/500] loss0.123-|Sample:0.50|\n",
      "EPOCH[224/500] loss0.122-|Sample:0.72|\n",
      "EPOCH[225/500] loss0.121-|Sample:0.59|\n",
      "EPOCH[226/500] loss0.125-|Sample:0.49|\n",
      "EPOCH[227/500] loss0.121-|Sample:0.72|\n",
      "EPOCH[228/500] loss0.121-|Sample:0.49|\n",
      "EPOCH[229/500] loss0.120-|Sample:0.49|\n"
     ]
    },
    {
     "name": "stderr",
     "output_type": "stream",
     "text": [
      "INFO:tensorboardX.summary:Summary name Test/Recall@[20, 40, 60] is illegal; using Test/Recall__20__40__60_ instead.\n",
      "INFO:tensorboardX.summary:Summary name Test/Recall@[20, 40, 60] is illegal; using Test/Recall__20__40__60_ instead.\n",
      "INFO:tensorboardX.summary:Summary name Test/Recall@[20, 40, 60] is illegal; using Test/Recall__20__40__60_ instead.\n",
      "INFO:tensorboardX.summary:Summary name Test/Precision@[20, 40, 60] is illegal; using Test/Precision__20__40__60_ instead.\n",
      "INFO:tensorboardX.summary:Summary name Test/Precision@[20, 40, 60] is illegal; using Test/Precision__20__40__60_ instead.\n",
      "INFO:tensorboardX.summary:Summary name Test/Precision@[20, 40, 60] is illegal; using Test/Precision__20__40__60_ instead.\n",
      "INFO:tensorboardX.summary:Summary name Test/NDCG@[20, 40, 60] is illegal; using Test/NDCG__20__40__60_ instead.\n",
      "INFO:tensorboardX.summary:Summary name Test/NDCG@[20, 40, 60] is illegal; using Test/NDCG__20__40__60_ instead.\n",
      "INFO:tensorboardX.summary:Summary name Test/NDCG@[20, 40, 60] is illegal; using Test/NDCG__20__40__60_ instead.\n"
     ]
    },
    {
     "name": "stdout",
     "output_type": "stream",
     "text": [
      "EPOCH[230/500] loss0.119-|Sample:0.72|\n",
      "\u001b[0;30;43m[TEST]\u001b[0m\n",
      "{'precision': array([0.25997807, 0.20762061, 0.1755848 ]), 'recall': array([0.29099223, 0.44896494, 0.53305681]), 'ndcg': array([0.36641565, 0.39510028, 0.41800556])}\n",
      "EPOCH[231/500] loss0.119-|Sample:0.51|\n",
      "EPOCH[232/500] loss0.122-|Sample:0.50|\n",
      "EPOCH[233/500] loss0.122-|Sample:0.73|\n",
      "EPOCH[234/500] loss0.123-|Sample:0.50|\n",
      "EPOCH[235/500] loss0.120-|Sample:0.49|\n",
      "EPOCH[236/500] loss0.125-|Sample:0.71|\n",
      "EPOCH[237/500] loss0.122-|Sample:0.49|\n",
      "EPOCH[238/500] loss0.120-|Sample:0.73|\n",
      "EPOCH[239/500] loss0.123-|Sample:0.50|\n"
     ]
    },
    {
     "name": "stderr",
     "output_type": "stream",
     "text": [
      "INFO:tensorboardX.summary:Summary name Test/Recall@[20, 40, 60] is illegal; using Test/Recall__20__40__60_ instead.\n",
      "INFO:tensorboardX.summary:Summary name Test/Recall@[20, 40, 60] is illegal; using Test/Recall__20__40__60_ instead.\n",
      "INFO:tensorboardX.summary:Summary name Test/Recall@[20, 40, 60] is illegal; using Test/Recall__20__40__60_ instead.\n",
      "INFO:tensorboardX.summary:Summary name Test/Precision@[20, 40, 60] is illegal; using Test/Precision__20__40__60_ instead.\n",
      "INFO:tensorboardX.summary:Summary name Test/Precision@[20, 40, 60] is illegal; using Test/Precision__20__40__60_ instead.\n",
      "INFO:tensorboardX.summary:Summary name Test/Precision@[20, 40, 60] is illegal; using Test/Precision__20__40__60_ instead.\n",
      "INFO:tensorboardX.summary:Summary name Test/NDCG@[20, 40, 60] is illegal; using Test/NDCG__20__40__60_ instead.\n",
      "INFO:tensorboardX.summary:Summary name Test/NDCG@[20, 40, 60] is illegal; using Test/NDCG__20__40__60_ instead.\n",
      "INFO:tensorboardX.summary:Summary name Test/NDCG@[20, 40, 60] is illegal; using Test/NDCG__20__40__60_ instead.\n"
     ]
    },
    {
     "name": "stdout",
     "output_type": "stream",
     "text": [
      "EPOCH[240/500] loss0.120-|Sample:0.49|\n",
      "\u001b[0;30;43m[TEST]\u001b[0m\n",
      "{'precision': array([0.26140351, 0.20926535, 0.17532895]), 'recall': array([0.29422217, 0.44929275, 0.53207498]), 'ndcg': array([0.3680178 , 0.39612871, 0.41780753])}\n",
      "EPOCH[241/500] loss0.118-|Sample:0.73|\n",
      "EPOCH[242/500] loss0.121-|Sample:0.49|\n",
      "EPOCH[243/500] loss0.119-|Sample:0.54|\n",
      "EPOCH[244/500] loss0.119-|Sample:0.49|\n",
      "EPOCH[245/500] loss0.119-|Sample:0.72|\n",
      "EPOCH[246/500] loss0.117-|Sample:0.53|\n",
      "EPOCH[247/500] loss0.119-|Sample:0.49|\n",
      "EPOCH[248/500] loss0.117-|Sample:0.83|\n",
      "EPOCH[249/500] loss0.117-|Sample:0.49|\n"
     ]
    },
    {
     "name": "stderr",
     "output_type": "stream",
     "text": [
      "INFO:tensorboardX.summary:Summary name Test/Recall@[20, 40, 60] is illegal; using Test/Recall__20__40__60_ instead.\n",
      "INFO:tensorboardX.summary:Summary name Test/Recall@[20, 40, 60] is illegal; using Test/Recall__20__40__60_ instead.\n",
      "INFO:tensorboardX.summary:Summary name Test/Recall@[20, 40, 60] is illegal; using Test/Recall__20__40__60_ instead.\n",
      "INFO:tensorboardX.summary:Summary name Test/Precision@[20, 40, 60] is illegal; using Test/Precision__20__40__60_ instead.\n",
      "INFO:tensorboardX.summary:Summary name Test/Precision@[20, 40, 60] is illegal; using Test/Precision__20__40__60_ instead.\n",
      "INFO:tensorboardX.summary:Summary name Test/Precision@[20, 40, 60] is illegal; using Test/Precision__20__40__60_ instead.\n",
      "INFO:tensorboardX.summary:Summary name Test/NDCG@[20, 40, 60] is illegal; using Test/NDCG__20__40__60_ instead.\n",
      "INFO:tensorboardX.summary:Summary name Test/NDCG@[20, 40, 60] is illegal; using Test/NDCG__20__40__60_ instead.\n",
      "INFO:tensorboardX.summary:Summary name Test/NDCG@[20, 40, 60] is illegal; using Test/NDCG__20__40__60_ instead.\n"
     ]
    },
    {
     "name": "stdout",
     "output_type": "stream",
     "text": [
      "EPOCH[250/500] loss0.120-|Sample:0.75|\n",
      "\u001b[0;30;43m[TEST]\u001b[0m\n",
      "{'precision': array([0.26304825, 0.21025219, 0.17591374]), 'recall': array([0.29689162, 0.44952798, 0.5335751 ]), 'ndcg': array([0.37008762, 0.39764704, 0.41942709])}\n",
      "EPOCH[251/500] loss0.119-|Sample:0.50|\n",
      "EPOCH[252/500] loss0.120-|Sample:0.50|\n",
      "EPOCH[253/500] loss0.118-|Sample:0.49|\n",
      "EPOCH[254/500] loss0.119-|Sample:0.71|\n",
      "EPOCH[255/500] loss0.119-|Sample:0.67|\n",
      "EPOCH[256/500] loss0.122-|Sample:0.66|\n",
      "EPOCH[257/500] loss0.116-|Sample:1.04|\n",
      "EPOCH[258/500] loss0.118-|Sample:0.50|\n",
      "EPOCH[259/500] loss0.117-|Sample:0.49|\n"
     ]
    },
    {
     "name": "stderr",
     "output_type": "stream",
     "text": [
      "INFO:tensorboardX.summary:Summary name Test/Recall@[20, 40, 60] is illegal; using Test/Recall__20__40__60_ instead.\n",
      "INFO:tensorboardX.summary:Summary name Test/Recall@[20, 40, 60] is illegal; using Test/Recall__20__40__60_ instead.\n",
      "INFO:tensorboardX.summary:Summary name Test/Recall@[20, 40, 60] is illegal; using Test/Recall__20__40__60_ instead.\n",
      "INFO:tensorboardX.summary:Summary name Test/Precision@[20, 40, 60] is illegal; using Test/Precision__20__40__60_ instead.\n",
      "INFO:tensorboardX.summary:Summary name Test/Precision@[20, 40, 60] is illegal; using Test/Precision__20__40__60_ instead.\n",
      "INFO:tensorboardX.summary:Summary name Test/Precision@[20, 40, 60] is illegal; using Test/Precision__20__40__60_ instead.\n",
      "INFO:tensorboardX.summary:Summary name Test/NDCG@[20, 40, 60] is illegal; using Test/NDCG__20__40__60_ instead.\n",
      "INFO:tensorboardX.summary:Summary name Test/NDCG@[20, 40, 60] is illegal; using Test/NDCG__20__40__60_ instead.\n",
      "INFO:tensorboardX.summary:Summary name Test/NDCG@[20, 40, 60] is illegal; using Test/NDCG__20__40__60_ instead.\n"
     ]
    },
    {
     "name": "stdout",
     "output_type": "stream",
     "text": [
      "EPOCH[260/500] loss0.117-|Sample:0.73|\n",
      "\u001b[0;30;43m[TEST]\u001b[0m\n",
      "{'precision': array([0.26403509, 0.21085526, 0.17653509]), 'recall': array([0.29760447, 0.44967706, 0.53487201]), 'ndcg': array([0.37156267, 0.39887861, 0.42097788])}\n",
      "EPOCH[261/500] loss0.115-|Sample:0.51|\n",
      "EPOCH[262/500] loss0.114-|Sample:0.49|\n",
      "EPOCH[263/500] loss0.117-|Sample:0.90|\n",
      "EPOCH[264/500] loss0.116-|Sample:0.65|\n",
      "EPOCH[265/500] loss0.117-|Sample:0.85|\n",
      "EPOCH[266/500] loss0.116-|Sample:0.71|\n",
      "EPOCH[267/500] loss0.117-|Sample:0.49|\n",
      "EPOCH[268/500] loss0.115-|Sample:1.01|\n",
      "EPOCH[269/500] loss0.116-|Sample:0.52|\n"
     ]
    },
    {
     "name": "stderr",
     "output_type": "stream",
     "text": [
      "INFO:tensorboardX.summary:Summary name Test/Recall@[20, 40, 60] is illegal; using Test/Recall__20__40__60_ instead.\n",
      "INFO:tensorboardX.summary:Summary name Test/Recall@[20, 40, 60] is illegal; using Test/Recall__20__40__60_ instead.\n",
      "INFO:tensorboardX.summary:Summary name Test/Recall@[20, 40, 60] is illegal; using Test/Recall__20__40__60_ instead.\n",
      "INFO:tensorboardX.summary:Summary name Test/Precision@[20, 40, 60] is illegal; using Test/Precision__20__40__60_ instead.\n",
      "INFO:tensorboardX.summary:Summary name Test/Precision@[20, 40, 60] is illegal; using Test/Precision__20__40__60_ instead.\n",
      "INFO:tensorboardX.summary:Summary name Test/Precision@[20, 40, 60] is illegal; using Test/Precision__20__40__60_ instead.\n",
      "INFO:tensorboardX.summary:Summary name Test/NDCG@[20, 40, 60] is illegal; using Test/NDCG__20__40__60_ instead.\n",
      "INFO:tensorboardX.summary:Summary name Test/NDCG@[20, 40, 60] is illegal; using Test/NDCG__20__40__60_ instead.\n",
      "INFO:tensorboardX.summary:Summary name Test/NDCG@[20, 40, 60] is illegal; using Test/NDCG__20__40__60_ instead.\n"
     ]
    },
    {
     "name": "stdout",
     "output_type": "stream",
     "text": [
      "EPOCH[270/500] loss0.113-|Sample:0.66|\n",
      "\u001b[0;30;43m[TEST]\u001b[0m\n",
      "{'precision': array([0.26633772, 0.21101974, 0.17679094]), 'recall': array([0.30035893, 0.45159431, 0.53655841]), 'ndcg': array([0.37364257, 0.39994448, 0.42210424])}\n",
      "EPOCH[271/500] loss0.115-|Sample:0.97|\n",
      "EPOCH[272/500] loss0.117-|Sample:0.50|\n",
      "EPOCH[273/500] loss0.118-|Sample:0.66|\n",
      "EPOCH[274/500] loss0.112-|Sample:0.50|\n",
      "EPOCH[275/500] loss0.111-|Sample:0.93|\n",
      "EPOCH[276/500] loss0.113-|Sample:0.50|\n",
      "EPOCH[277/500] loss0.113-|Sample:0.66|\n",
      "EPOCH[278/500] loss0.113-|Sample:0.95|\n",
      "EPOCH[279/500] loss0.112-|Sample:0.50|\n"
     ]
    },
    {
     "name": "stderr",
     "output_type": "stream",
     "text": [
      "INFO:tensorboardX.summary:Summary name Test/Recall@[20, 40, 60] is illegal; using Test/Recall__20__40__60_ instead.\n",
      "INFO:tensorboardX.summary:Summary name Test/Recall@[20, 40, 60] is illegal; using Test/Recall__20__40__60_ instead.\n",
      "INFO:tensorboardX.summary:Summary name Test/Recall@[20, 40, 60] is illegal; using Test/Recall__20__40__60_ instead.\n",
      "INFO:tensorboardX.summary:Summary name Test/Precision@[20, 40, 60] is illegal; using Test/Precision__20__40__60_ instead.\n",
      "INFO:tensorboardX.summary:Summary name Test/Precision@[20, 40, 60] is illegal; using Test/Precision__20__40__60_ instead.\n",
      "INFO:tensorboardX.summary:Summary name Test/Precision@[20, 40, 60] is illegal; using Test/Precision__20__40__60_ instead.\n",
      "INFO:tensorboardX.summary:Summary name Test/NDCG@[20, 40, 60] is illegal; using Test/NDCG__20__40__60_ instead.\n",
      "INFO:tensorboardX.summary:Summary name Test/NDCG@[20, 40, 60] is illegal; using Test/NDCG__20__40__60_ instead.\n",
      "INFO:tensorboardX.summary:Summary name Test/NDCG@[20, 40, 60] is illegal; using Test/NDCG__20__40__60_ instead.\n"
     ]
    },
    {
     "name": "stdout",
     "output_type": "stream",
     "text": [
      "EPOCH[280/500] loss0.114-|Sample:0.72|\n",
      "\u001b[0;30;43m[TEST]\u001b[0m\n",
      "{'precision': array([0.26699561, 0.21239035, 0.17733918]), 'recall': array([0.29786719, 0.45463388, 0.53732359]), 'ndcg': array([0.37376166, 0.40172741, 0.42301049])}\n",
      "EPOCH[281/500] loss0.114-|Sample:0.70|\n",
      "EPOCH[282/500] loss0.112-|Sample:0.50|\n",
      "EPOCH[283/500] loss0.113-|Sample:0.50|\n",
      "EPOCH[284/500] loss0.113-|Sample:0.90|\n",
      "EPOCH[285/500] loss0.112-|Sample:0.49|\n",
      "EPOCH[286/500] loss0.111-|Sample:0.61|\n",
      "EPOCH[287/500] loss0.110-|Sample:0.79|\n",
      "EPOCH[288/500] loss0.113-|Sample:0.51|\n",
      "EPOCH[289/500] loss0.112-|Sample:0.50|\n"
     ]
    },
    {
     "name": "stderr",
     "output_type": "stream",
     "text": [
      "INFO:tensorboardX.summary:Summary name Test/Recall@[20, 40, 60] is illegal; using Test/Recall__20__40__60_ instead.\n",
      "INFO:tensorboardX.summary:Summary name Test/Recall@[20, 40, 60] is illegal; using Test/Recall__20__40__60_ instead.\n",
      "INFO:tensorboardX.summary:Summary name Test/Recall@[20, 40, 60] is illegal; using Test/Recall__20__40__60_ instead.\n",
      "INFO:tensorboardX.summary:Summary name Test/Precision@[20, 40, 60] is illegal; using Test/Precision__20__40__60_ instead.\n",
      "INFO:tensorboardX.summary:Summary name Test/Precision@[20, 40, 60] is illegal; using Test/Precision__20__40__60_ instead.\n",
      "INFO:tensorboardX.summary:Summary name Test/Precision@[20, 40, 60] is illegal; using Test/Precision__20__40__60_ instead.\n",
      "INFO:tensorboardX.summary:Summary name Test/NDCG@[20, 40, 60] is illegal; using Test/NDCG__20__40__60_ instead.\n",
      "INFO:tensorboardX.summary:Summary name Test/NDCG@[20, 40, 60] is illegal; using Test/NDCG__20__40__60_ instead.\n",
      "INFO:tensorboardX.summary:Summary name Test/NDCG@[20, 40, 60] is illegal; using Test/NDCG__20__40__60_ instead.\n"
     ]
    },
    {
     "name": "stdout",
     "output_type": "stream",
     "text": [
      "EPOCH[290/500] loss0.111-|Sample:0.95|\n",
      "\u001b[0;30;43m[TEST]\u001b[0m\n",
      "{'precision': array([0.26787281, 0.21365132, 0.17843567]), 'recall': array([0.29970743, 0.45637829, 0.53894935]), 'ndcg': array([0.37589331, 0.40403958, 0.42536729])}\n",
      "EPOCH[291/500] loss0.113-|Sample:0.68|\n",
      "EPOCH[292/500] loss0.110-|Sample:0.65|\n",
      "EPOCH[293/500] loss0.110-|Sample:0.93|\n",
      "EPOCH[294/500] loss0.111-|Sample:0.65|\n",
      "EPOCH[295/500] loss0.111-|Sample:0.50|\n",
      "EPOCH[296/500] loss0.111-|Sample:0.91|\n",
      "EPOCH[297/500] loss0.114-|Sample:0.49|\n",
      "EPOCH[298/500] loss0.115-|Sample:0.79|\n",
      "EPOCH[299/500] loss0.108-|Sample:0.66|\n"
     ]
    },
    {
     "name": "stderr",
     "output_type": "stream",
     "text": [
      "INFO:tensorboardX.summary:Summary name Test/Recall@[20, 40, 60] is illegal; using Test/Recall__20__40__60_ instead.\n",
      "INFO:tensorboardX.summary:Summary name Test/Recall@[20, 40, 60] is illegal; using Test/Recall__20__40__60_ instead.\n",
      "INFO:tensorboardX.summary:Summary name Test/Recall@[20, 40, 60] is illegal; using Test/Recall__20__40__60_ instead.\n",
      "INFO:tensorboardX.summary:Summary name Test/Precision@[20, 40, 60] is illegal; using Test/Precision__20__40__60_ instead.\n",
      "INFO:tensorboardX.summary:Summary name Test/Precision@[20, 40, 60] is illegal; using Test/Precision__20__40__60_ instead.\n",
      "INFO:tensorboardX.summary:Summary name Test/Precision@[20, 40, 60] is illegal; using Test/Precision__20__40__60_ instead.\n",
      "INFO:tensorboardX.summary:Summary name Test/NDCG@[20, 40, 60] is illegal; using Test/NDCG__20__40__60_ instead.\n",
      "INFO:tensorboardX.summary:Summary name Test/NDCG@[20, 40, 60] is illegal; using Test/NDCG__20__40__60_ instead.\n",
      "INFO:tensorboardX.summary:Summary name Test/NDCG@[20, 40, 60] is illegal; using Test/NDCG__20__40__60_ instead.\n"
     ]
    },
    {
     "name": "stdout",
     "output_type": "stream",
     "text": [
      "EPOCH[300/500] loss0.109-|Sample:0.65|\n",
      "\u001b[0;30;43m[TEST]\u001b[0m\n",
      "{'precision': array([0.26962719, 0.21502193, 0.17934942]), 'recall': array([0.30321232, 0.45673851, 0.54107345]), 'ndcg': array([0.3777932 , 0.40537665, 0.42683106])}\n",
      "EPOCH[301/500] loss0.110-|Sample:0.91|\n",
      "EPOCH[302/500] loss0.111-|Sample:0.65|\n",
      "EPOCH[303/500] loss0.108-|Sample:0.49|\n",
      "EPOCH[304/500] loss0.108-|Sample:0.50|\n",
      "EPOCH[305/500] loss0.112-|Sample:0.78|\n",
      "EPOCH[306/500] loss0.111-|Sample:0.50|\n",
      "EPOCH[307/500] loss0.108-|Sample:0.70|\n",
      "EPOCH[308/500] loss0.112-|Sample:0.74|\n",
      "EPOCH[309/500] loss0.110-|Sample:0.50|\n"
     ]
    },
    {
     "name": "stderr",
     "output_type": "stream",
     "text": [
      "INFO:tensorboardX.summary:Summary name Test/Recall@[20, 40, 60] is illegal; using Test/Recall__20__40__60_ instead.\n",
      "INFO:tensorboardX.summary:Summary name Test/Recall@[20, 40, 60] is illegal; using Test/Recall__20__40__60_ instead.\n",
      "INFO:tensorboardX.summary:Summary name Test/Recall@[20, 40, 60] is illegal; using Test/Recall__20__40__60_ instead.\n",
      "INFO:tensorboardX.summary:Summary name Test/Precision@[20, 40, 60] is illegal; using Test/Precision__20__40__60_ instead.\n",
      "INFO:tensorboardX.summary:Summary name Test/Precision@[20, 40, 60] is illegal; using Test/Precision__20__40__60_ instead.\n",
      "INFO:tensorboardX.summary:Summary name Test/Precision@[20, 40, 60] is illegal; using Test/Precision__20__40__60_ instead.\n",
      "INFO:tensorboardX.summary:Summary name Test/NDCG@[20, 40, 60] is illegal; using Test/NDCG__20__40__60_ instead.\n",
      "INFO:tensorboardX.summary:Summary name Test/NDCG@[20, 40, 60] is illegal; using Test/NDCG__20__40__60_ instead.\n",
      "INFO:tensorboardX.summary:Summary name Test/NDCG@[20, 40, 60] is illegal; using Test/NDCG__20__40__60_ instead.\n"
     ]
    },
    {
     "name": "stdout",
     "output_type": "stream",
     "text": [
      "EPOCH[310/500] loss0.108-|Sample:0.77|\n",
      "\u001b[0;30;43m[TEST]\u001b[0m\n",
      "{'precision': array([0.27127193, 0.21546053, 0.17913012]), 'recall': array([0.30351451, 0.45881065, 0.53997803]), 'ndcg': array([0.37931817, 0.40671862, 0.42695775])}\n",
      "EPOCH[311/500] loss0.109-|Sample:0.70|\n",
      "EPOCH[312/500] loss0.110-|Sample:0.49|\n",
      "EPOCH[313/500] loss0.108-|Sample:0.50|\n",
      "EPOCH[314/500] loss0.106-|Sample:0.86|\n",
      "EPOCH[315/500] loss0.107-|Sample:0.65|\n",
      "EPOCH[316/500] loss0.110-|Sample:0.71|\n",
      "EPOCH[317/500] loss0.111-|Sample:0.87|\n",
      "EPOCH[318/500] loss0.109-|Sample:0.61|\n",
      "EPOCH[319/500] loss0.106-|Sample:0.49|\n"
     ]
    },
    {
     "name": "stderr",
     "output_type": "stream",
     "text": [
      "INFO:tensorboardX.summary:Summary name Test/Recall@[20, 40, 60] is illegal; using Test/Recall__20__40__60_ instead.\n",
      "INFO:tensorboardX.summary:Summary name Test/Recall@[20, 40, 60] is illegal; using Test/Recall__20__40__60_ instead.\n",
      "INFO:tensorboardX.summary:Summary name Test/Recall@[20, 40, 60] is illegal; using Test/Recall__20__40__60_ instead.\n",
      "INFO:tensorboardX.summary:Summary name Test/Precision@[20, 40, 60] is illegal; using Test/Precision__20__40__60_ instead.\n",
      "INFO:tensorboardX.summary:Summary name Test/Precision@[20, 40, 60] is illegal; using Test/Precision__20__40__60_ instead.\n",
      "INFO:tensorboardX.summary:Summary name Test/Precision@[20, 40, 60] is illegal; using Test/Precision__20__40__60_ instead.\n",
      "INFO:tensorboardX.summary:Summary name Test/NDCG@[20, 40, 60] is illegal; using Test/NDCG__20__40__60_ instead.\n",
      "INFO:tensorboardX.summary:Summary name Test/NDCG@[20, 40, 60] is illegal; using Test/NDCG__20__40__60_ instead.\n",
      "INFO:tensorboardX.summary:Summary name Test/NDCG@[20, 40, 60] is illegal; using Test/NDCG__20__40__60_ instead.\n"
     ]
    },
    {
     "name": "stdout",
     "output_type": "stream",
     "text": [
      "EPOCH[320/500] loss0.107-|Sample:0.72|\n",
      "\u001b[0;30;43m[TEST]\u001b[0m\n",
      "{'precision': array([0.27269737, 0.21644737, 0.18015351]), 'recall': array([0.30536343, 0.46030338, 0.54332008]), 'ndcg': array([0.38116678, 0.40823148, 0.42910881])}\n",
      "EPOCH[321/500] loss0.106-|Sample:0.51|\n",
      "EPOCH[322/500] loss0.109-|Sample:0.54|\n",
      "EPOCH[323/500] loss0.107-|Sample:0.80|\n",
      "EPOCH[324/500] loss0.106-|Sample:0.69|\n",
      "EPOCH[325/500] loss0.104-|Sample:0.49|\n",
      "EPOCH[326/500] loss0.105-|Sample:0.74|\n",
      "EPOCH[327/500] loss0.105-|Sample:0.50|\n",
      "EPOCH[328/500] loss0.105-|Sample:0.73|\n",
      "EPOCH[329/500] loss0.106-|Sample:0.51|\n"
     ]
    },
    {
     "name": "stderr",
     "output_type": "stream",
     "text": [
      "INFO:tensorboardX.summary:Summary name Test/Recall@[20, 40, 60] is illegal; using Test/Recall__20__40__60_ instead.\n",
      "INFO:tensorboardX.summary:Summary name Test/Recall@[20, 40, 60] is illegal; using Test/Recall__20__40__60_ instead.\n",
      "INFO:tensorboardX.summary:Summary name Test/Recall@[20, 40, 60] is illegal; using Test/Recall__20__40__60_ instead.\n",
      "INFO:tensorboardX.summary:Summary name Test/Precision@[20, 40, 60] is illegal; using Test/Precision__20__40__60_ instead.\n",
      "INFO:tensorboardX.summary:Summary name Test/Precision@[20, 40, 60] is illegal; using Test/Precision__20__40__60_ instead.\n",
      "INFO:tensorboardX.summary:Summary name Test/Precision@[20, 40, 60] is illegal; using Test/Precision__20__40__60_ instead.\n",
      "INFO:tensorboardX.summary:Summary name Test/NDCG@[20, 40, 60] is illegal; using Test/NDCG__20__40__60_ instead.\n",
      "INFO:tensorboardX.summary:Summary name Test/NDCG@[20, 40, 60] is illegal; using Test/NDCG__20__40__60_ instead.\n",
      "INFO:tensorboardX.summary:Summary name Test/NDCG@[20, 40, 60] is illegal; using Test/NDCG__20__40__60_ instead.\n"
     ]
    },
    {
     "name": "stdout",
     "output_type": "stream",
     "text": [
      "EPOCH[330/500] loss0.106-|Sample:0.49|\n",
      "\u001b[0;30;43m[TEST]\u001b[0m\n",
      "{'precision': array([0.27412281, 0.21759868, 0.18084795]), 'recall': array([0.30580479, 0.45916194, 0.54580892]), 'ndcg': array([0.38168799, 0.40827662, 0.42990105])}\n",
      "EPOCH[331/500] loss0.106-|Sample:0.74|\n",
      "EPOCH[332/500] loss0.107-|Sample:0.53|\n",
      "EPOCH[333/500] loss0.105-|Sample:0.49|\n",
      "EPOCH[334/500] loss0.104-|Sample:0.65|\n",
      "EPOCH[335/500] loss0.104-|Sample:0.92|\n",
      "EPOCH[336/500] loss0.104-|Sample:0.65|\n",
      "EPOCH[337/500] loss0.102-|Sample:0.50|\n",
      "EPOCH[338/500] loss0.105-|Sample:0.72|\n",
      "EPOCH[339/500] loss0.108-|Sample:0.49|\n"
     ]
    },
    {
     "name": "stderr",
     "output_type": "stream",
     "text": [
      "INFO:tensorboardX.summary:Summary name Test/Recall@[20, 40, 60] is illegal; using Test/Recall__20__40__60_ instead.\n",
      "INFO:tensorboardX.summary:Summary name Test/Recall@[20, 40, 60] is illegal; using Test/Recall__20__40__60_ instead.\n",
      "INFO:tensorboardX.summary:Summary name Test/Recall@[20, 40, 60] is illegal; using Test/Recall__20__40__60_ instead.\n",
      "INFO:tensorboardX.summary:Summary name Test/Precision@[20, 40, 60] is illegal; using Test/Precision__20__40__60_ instead.\n",
      "INFO:tensorboardX.summary:Summary name Test/Precision@[20, 40, 60] is illegal; using Test/Precision__20__40__60_ instead.\n",
      "INFO:tensorboardX.summary:Summary name Test/Precision@[20, 40, 60] is illegal; using Test/Precision__20__40__60_ instead.\n",
      "INFO:tensorboardX.summary:Summary name Test/NDCG@[20, 40, 60] is illegal; using Test/NDCG__20__40__60_ instead.\n",
      "INFO:tensorboardX.summary:Summary name Test/NDCG@[20, 40, 60] is illegal; using Test/NDCG__20__40__60_ instead.\n",
      "INFO:tensorboardX.summary:Summary name Test/NDCG@[20, 40, 60] is illegal; using Test/NDCG__20__40__60_ instead.\n"
     ]
    },
    {
     "name": "stdout",
     "output_type": "stream",
     "text": [
      "EPOCH[340/500] loss0.104-|Sample:0.72|\n",
      "\u001b[0;30;43m[TEST]\u001b[0m\n",
      "{'precision': array([0.2754386 , 0.21842105, 0.18190789]), 'recall': array([0.30943312, 0.45918517, 0.54658063]), 'ndcg': array([0.38416314, 0.40985853, 0.43184054])}\n",
      "EPOCH[341/500] loss0.107-|Sample:0.50|\n",
      "EPOCH[342/500] loss0.106-|Sample:0.49|\n",
      "EPOCH[343/500] loss0.103-|Sample:0.49|\n",
      "EPOCH[344/500] loss0.104-|Sample:0.72|\n",
      "EPOCH[345/500] loss0.102-|Sample:0.49|\n",
      "EPOCH[346/500] loss0.104-|Sample:0.49|\n",
      "EPOCH[347/500] loss0.105-|Sample:0.72|\n",
      "EPOCH[348/500] loss0.107-|Sample:0.49|\n",
      "EPOCH[349/500] loss0.100-|Sample:0.49|\n"
     ]
    },
    {
     "name": "stderr",
     "output_type": "stream",
     "text": [
      "INFO:tensorboardX.summary:Summary name Test/Recall@[20, 40, 60] is illegal; using Test/Recall__20__40__60_ instead.\n",
      "INFO:tensorboardX.summary:Summary name Test/Recall@[20, 40, 60] is illegal; using Test/Recall__20__40__60_ instead.\n",
      "INFO:tensorboardX.summary:Summary name Test/Recall@[20, 40, 60] is illegal; using Test/Recall__20__40__60_ instead.\n",
      "INFO:tensorboardX.summary:Summary name Test/Precision@[20, 40, 60] is illegal; using Test/Precision__20__40__60_ instead.\n",
      "INFO:tensorboardX.summary:Summary name Test/Precision@[20, 40, 60] is illegal; using Test/Precision__20__40__60_ instead.\n",
      "INFO:tensorboardX.summary:Summary name Test/Precision@[20, 40, 60] is illegal; using Test/Precision__20__40__60_ instead.\n",
      "INFO:tensorboardX.summary:Summary name Test/NDCG@[20, 40, 60] is illegal; using Test/NDCG__20__40__60_ instead.\n",
      "INFO:tensorboardX.summary:Summary name Test/NDCG@[20, 40, 60] is illegal; using Test/NDCG__20__40__60_ instead.\n",
      "INFO:tensorboardX.summary:Summary name Test/NDCG@[20, 40, 60] is illegal; using Test/NDCG__20__40__60_ instead.\n"
     ]
    },
    {
     "name": "stdout",
     "output_type": "stream",
     "text": [
      "EPOCH[350/500] loss0.103-|Sample:0.72|\n",
      "\u001b[0;30;43m[TEST]\u001b[0m\n",
      "{'precision': array([0.27686404, 0.2191886 , 0.18260234]), 'recall': array([0.31096652, 0.45927644, 0.54906787]), 'ndcg': array([0.3854098 , 0.41049576, 0.43305461])}\n",
      "EPOCH[351/500] loss0.100-|Sample:0.50|\n",
      "EPOCH[352/500] loss0.097-|Sample:0.49|\n",
      "EPOCH[353/500] loss0.102-|Sample:0.71|\n",
      "EPOCH[354/500] loss0.102-|Sample:0.55|\n",
      "EPOCH[355/500] loss0.103-|Sample:0.53|\n",
      "EPOCH[356/500] loss0.101-|Sample:0.73|\n",
      "EPOCH[357/500] loss0.103-|Sample:0.67|\n",
      "EPOCH[358/500] loss0.102-|Sample:0.79|\n",
      "EPOCH[359/500] loss0.102-|Sample:0.50|\n"
     ]
    },
    {
     "name": "stderr",
     "output_type": "stream",
     "text": [
      "INFO:tensorboardX.summary:Summary name Test/Recall@[20, 40, 60] is illegal; using Test/Recall__20__40__60_ instead.\n",
      "INFO:tensorboardX.summary:Summary name Test/Recall@[20, 40, 60] is illegal; using Test/Recall__20__40__60_ instead.\n",
      "INFO:tensorboardX.summary:Summary name Test/Recall@[20, 40, 60] is illegal; using Test/Recall__20__40__60_ instead.\n",
      "INFO:tensorboardX.summary:Summary name Test/Precision@[20, 40, 60] is illegal; using Test/Precision__20__40__60_ instead.\n",
      "INFO:tensorboardX.summary:Summary name Test/Precision@[20, 40, 60] is illegal; using Test/Precision__20__40__60_ instead.\n",
      "INFO:tensorboardX.summary:Summary name Test/Precision@[20, 40, 60] is illegal; using Test/Precision__20__40__60_ instead.\n",
      "INFO:tensorboardX.summary:Summary name Test/NDCG@[20, 40, 60] is illegal; using Test/NDCG__20__40__60_ instead.\n",
      "INFO:tensorboardX.summary:Summary name Test/NDCG@[20, 40, 60] is illegal; using Test/NDCG__20__40__60_ instead.\n",
      "INFO:tensorboardX.summary:Summary name Test/NDCG@[20, 40, 60] is illegal; using Test/NDCG__20__40__60_ instead.\n"
     ]
    },
    {
     "name": "stdout",
     "output_type": "stream",
     "text": [
      "EPOCH[360/500] loss0.099-|Sample:0.51|\n",
      "\u001b[0;30;43m[TEST]\u001b[0m\n",
      "{'precision': array([0.27785088, 0.21929825, 0.18333333]), 'recall': array([0.31191892, 0.46028614, 0.54973944]), 'ndcg': array([0.3871669 , 0.41189235, 0.43473805])}\n",
      "EPOCH[361/500] loss0.102-|Sample:0.73|\n",
      "EPOCH[362/500] loss0.103-|Sample:0.50|\n",
      "EPOCH[363/500] loss0.101-|Sample:0.63|\n",
      "EPOCH[364/500] loss0.097-|Sample:0.67|\n",
      "EPOCH[365/500] loss0.101-|Sample:0.89|\n",
      "EPOCH[366/500] loss0.097-|Sample:0.69|\n",
      "EPOCH[367/500] loss0.099-|Sample:0.50|\n",
      "EPOCH[368/500] loss0.101-|Sample:0.92|\n",
      "EPOCH[369/500] loss0.098-|Sample:0.52|\n"
     ]
    },
    {
     "name": "stderr",
     "output_type": "stream",
     "text": [
      "INFO:tensorboardX.summary:Summary name Test/Recall@[20, 40, 60] is illegal; using Test/Recall__20__40__60_ instead.\n",
      "INFO:tensorboardX.summary:Summary name Test/Recall@[20, 40, 60] is illegal; using Test/Recall__20__40__60_ instead.\n",
      "INFO:tensorboardX.summary:Summary name Test/Recall@[20, 40, 60] is illegal; using Test/Recall__20__40__60_ instead.\n",
      "INFO:tensorboardX.summary:Summary name Test/Precision@[20, 40, 60] is illegal; using Test/Precision__20__40__60_ instead.\n",
      "INFO:tensorboardX.summary:Summary name Test/Precision@[20, 40, 60] is illegal; using Test/Precision__20__40__60_ instead.\n",
      "INFO:tensorboardX.summary:Summary name Test/Precision@[20, 40, 60] is illegal; using Test/Precision__20__40__60_ instead.\n",
      "INFO:tensorboardX.summary:Summary name Test/NDCG@[20, 40, 60] is illegal; using Test/NDCG__20__40__60_ instead.\n",
      "INFO:tensorboardX.summary:Summary name Test/NDCG@[20, 40, 60] is illegal; using Test/NDCG__20__40__60_ instead.\n",
      "INFO:tensorboardX.summary:Summary name Test/NDCG@[20, 40, 60] is illegal; using Test/NDCG__20__40__60_ instead.\n"
     ]
    },
    {
     "name": "stdout",
     "output_type": "stream",
     "text": [
      "EPOCH[370/500] loss0.098-|Sample:0.74|\n",
      "\u001b[0;30;43m[TEST]\u001b[0m\n",
      "{'precision': array([0.27839912, 0.22028509, 0.18347953]), 'recall': array([0.31154998, 0.45964803, 0.54924371]), 'ndcg': array([0.38792854, 0.4129327 , 0.43530009])}\n",
      "EPOCH[371/500] loss0.101-|Sample:0.67|\n",
      "EPOCH[372/500] loss0.100-|Sample:0.66|\n",
      "EPOCH[373/500] loss0.100-|Sample:0.66|\n",
      "EPOCH[374/500] loss0.100-|Sample:0.79|\n",
      "EPOCH[375/500] loss0.099-|Sample:0.49|\n",
      "EPOCH[376/500] loss0.099-|Sample:0.63|\n",
      "EPOCH[377/500] loss0.100-|Sample:0.78|\n",
      "EPOCH[378/500] loss0.101-|Sample:0.51|\n",
      "EPOCH[379/500] loss0.100-|Sample:0.50|\n"
     ]
    },
    {
     "name": "stderr",
     "output_type": "stream",
     "text": [
      "INFO:tensorboardX.summary:Summary name Test/Recall@[20, 40, 60] is illegal; using Test/Recall__20__40__60_ instead.\n",
      "INFO:tensorboardX.summary:Summary name Test/Recall@[20, 40, 60] is illegal; using Test/Recall__20__40__60_ instead.\n",
      "INFO:tensorboardX.summary:Summary name Test/Recall@[20, 40, 60] is illegal; using Test/Recall__20__40__60_ instead.\n",
      "INFO:tensorboardX.summary:Summary name Test/Precision@[20, 40, 60] is illegal; using Test/Precision__20__40__60_ instead.\n",
      "INFO:tensorboardX.summary:Summary name Test/Precision@[20, 40, 60] is illegal; using Test/Precision__20__40__60_ instead.\n",
      "INFO:tensorboardX.summary:Summary name Test/Precision@[20, 40, 60] is illegal; using Test/Precision__20__40__60_ instead.\n",
      "INFO:tensorboardX.summary:Summary name Test/NDCG@[20, 40, 60] is illegal; using Test/NDCG__20__40__60_ instead.\n",
      "INFO:tensorboardX.summary:Summary name Test/NDCG@[20, 40, 60] is illegal; using Test/NDCG__20__40__60_ instead.\n",
      "INFO:tensorboardX.summary:Summary name Test/NDCG@[20, 40, 60] is illegal; using Test/NDCG__20__40__60_ instead.\n"
     ]
    },
    {
     "name": "stdout",
     "output_type": "stream",
     "text": [
      "EPOCH[380/500] loss0.097-|Sample:0.77|\n",
      "\u001b[0;30;43m[TEST]\u001b[0m\n",
      "{'precision': array([0.27982456, 0.22012061, 0.18366228]), 'recall': array([0.3145834 , 0.45964917, 0.54964947]), 'ndcg': array([0.39049245, 0.41394774, 0.43662011])}\n",
      "EPOCH[381/500] loss0.098-|Sample:0.50|\n",
      "EPOCH[382/500] loss0.098-|Sample:0.49|\n",
      "EPOCH[383/500] loss0.098-|Sample:0.82|\n",
      "EPOCH[384/500] loss0.097-|Sample:0.49|\n",
      "EPOCH[385/500] loss0.098-|Sample:0.49|\n",
      "EPOCH[386/500] loss0.098-|Sample:0.83|\n",
      "EPOCH[387/500] loss0.094-|Sample:0.50|\n",
      "EPOCH[388/500] loss0.099-|Sample:0.79|\n",
      "EPOCH[389/500] loss0.097-|Sample:0.66|\n"
     ]
    },
    {
     "name": "stderr",
     "output_type": "stream",
     "text": [
      "INFO:tensorboardX.summary:Summary name Test/Recall@[20, 40, 60] is illegal; using Test/Recall__20__40__60_ instead.\n",
      "INFO:tensorboardX.summary:Summary name Test/Recall@[20, 40, 60] is illegal; using Test/Recall__20__40__60_ instead.\n",
      "INFO:tensorboardX.summary:Summary name Test/Recall@[20, 40, 60] is illegal; using Test/Recall__20__40__60_ instead.\n",
      "INFO:tensorboardX.summary:Summary name Test/Precision@[20, 40, 60] is illegal; using Test/Precision__20__40__60_ instead.\n",
      "INFO:tensorboardX.summary:Summary name Test/Precision@[20, 40, 60] is illegal; using Test/Precision__20__40__60_ instead.\n",
      "INFO:tensorboardX.summary:Summary name Test/Precision@[20, 40, 60] is illegal; using Test/Precision__20__40__60_ instead.\n",
      "INFO:tensorboardX.summary:Summary name Test/NDCG@[20, 40, 60] is illegal; using Test/NDCG__20__40__60_ instead.\n",
      "INFO:tensorboardX.summary:Summary name Test/NDCG@[20, 40, 60] is illegal; using Test/NDCG__20__40__60_ instead.\n",
      "INFO:tensorboardX.summary:Summary name Test/NDCG@[20, 40, 60] is illegal; using Test/NDCG__20__40__60_ instead.\n"
     ]
    },
    {
     "name": "stdout",
     "output_type": "stream",
     "text": [
      "EPOCH[390/500] loss0.096-|Sample:0.67|\n",
      "\u001b[0;30;43m[TEST]\u001b[0m\n",
      "{'precision': array([0.28092105, 0.22055921, 0.18380848]), 'recall': array([0.31565868, 0.46062808, 0.55054035]), 'ndcg': array([0.39185254, 0.41506184, 0.43762089])}\n",
      "EPOCH[391/500] loss0.097-|Sample:0.91|\n",
      "EPOCH[392/500] loss0.101-|Sample:0.64|\n",
      "EPOCH[393/500] loss0.099-|Sample:0.66|\n",
      "EPOCH[394/500] loss0.094-|Sample:0.70|\n",
      "EPOCH[395/500] loss0.097-|Sample:0.79|\n",
      "EPOCH[396/500] loss0.096-|Sample:0.50|\n",
      "EPOCH[397/500] loss0.097-|Sample:0.52|\n",
      "EPOCH[398/500] loss0.094-|Sample:0.75|\n",
      "EPOCH[399/500] loss0.093-|Sample:0.49|\n"
     ]
    },
    {
     "name": "stderr",
     "output_type": "stream",
     "text": [
      "INFO:tensorboardX.summary:Summary name Test/Recall@[20, 40, 60] is illegal; using Test/Recall__20__40__60_ instead.\n",
      "INFO:tensorboardX.summary:Summary name Test/Recall@[20, 40, 60] is illegal; using Test/Recall__20__40__60_ instead.\n",
      "INFO:tensorboardX.summary:Summary name Test/Recall@[20, 40, 60] is illegal; using Test/Recall__20__40__60_ instead.\n",
      "INFO:tensorboardX.summary:Summary name Test/Precision@[20, 40, 60] is illegal; using Test/Precision__20__40__60_ instead.\n",
      "INFO:tensorboardX.summary:Summary name Test/Precision@[20, 40, 60] is illegal; using Test/Precision__20__40__60_ instead.\n",
      "INFO:tensorboardX.summary:Summary name Test/Precision@[20, 40, 60] is illegal; using Test/Precision__20__40__60_ instead.\n",
      "INFO:tensorboardX.summary:Summary name Test/NDCG@[20, 40, 60] is illegal; using Test/NDCG__20__40__60_ instead.\n",
      "INFO:tensorboardX.summary:Summary name Test/NDCG@[20, 40, 60] is illegal; using Test/NDCG__20__40__60_ instead.\n",
      "INFO:tensorboardX.summary:Summary name Test/NDCG@[20, 40, 60] is illegal; using Test/NDCG__20__40__60_ instead.\n"
     ]
    },
    {
     "name": "stdout",
     "output_type": "stream",
     "text": [
      "EPOCH[400/500] loss0.097-|Sample:0.72|\n",
      "\u001b[0;30;43m[TEST]\u001b[0m\n",
      "{'precision': array([0.28223684, 0.22121711, 0.18399123]), 'recall': array([0.31773837, 0.46202547, 0.55087053]), 'ndcg': array([0.39286823, 0.41560452, 0.43765698])}\n",
      "EPOCH[401/500] loss0.096-|Sample:0.59|\n",
      "EPOCH[402/500] loss0.097-|Sample:0.49|\n",
      "EPOCH[403/500] loss0.099-|Sample:0.50|\n",
      "EPOCH[404/500] loss0.097-|Sample:0.88|\n",
      "EPOCH[405/500] loss0.097-|Sample:0.49|\n",
      "EPOCH[406/500] loss0.100-|Sample:0.65|\n",
      "EPOCH[407/500] loss0.096-|Sample:0.72|\n",
      "EPOCH[408/500] loss0.095-|Sample:0.66|\n",
      "EPOCH[409/500] loss0.096-|Sample:0.49|\n"
     ]
    },
    {
     "name": "stderr",
     "output_type": "stream",
     "text": [
      "INFO:tensorboardX.summary:Summary name Test/Recall@[20, 40, 60] is illegal; using Test/Recall__20__40__60_ instead.\n",
      "INFO:tensorboardX.summary:Summary name Test/Recall@[20, 40, 60] is illegal; using Test/Recall__20__40__60_ instead.\n",
      "INFO:tensorboardX.summary:Summary name Test/Recall@[20, 40, 60] is illegal; using Test/Recall__20__40__60_ instead.\n",
      "INFO:tensorboardX.summary:Summary name Test/Precision@[20, 40, 60] is illegal; using Test/Precision__20__40__60_ instead.\n",
      "INFO:tensorboardX.summary:Summary name Test/Precision@[20, 40, 60] is illegal; using Test/Precision__20__40__60_ instead.\n",
      "INFO:tensorboardX.summary:Summary name Test/Precision@[20, 40, 60] is illegal; using Test/Precision__20__40__60_ instead.\n",
      "INFO:tensorboardX.summary:Summary name Test/NDCG@[20, 40, 60] is illegal; using Test/NDCG__20__40__60_ instead.\n",
      "INFO:tensorboardX.summary:Summary name Test/NDCG@[20, 40, 60] is illegal; using Test/NDCG__20__40__60_ instead.\n",
      "INFO:tensorboardX.summary:Summary name Test/NDCG@[20, 40, 60] is illegal; using Test/NDCG__20__40__60_ instead.\n"
     ]
    },
    {
     "name": "stdout",
     "output_type": "stream",
     "text": [
      "EPOCH[410/500] loss0.096-|Sample:0.72|\n",
      "\u001b[0;30;43m[TEST]\u001b[0m\n",
      "{'precision': array([0.28256579, 0.22105263, 0.18424708]), 'recall': array([0.31627756, 0.46315551, 0.55232808]), 'ndcg': array([0.39416426, 0.41708118, 0.43947083])}\n",
      "EPOCH[411/500] loss0.094-|Sample:0.51|\n",
      "EPOCH[412/500] loss0.096-|Sample:0.67|\n",
      "EPOCH[413/500] loss0.096-|Sample:0.72|\n",
      "EPOCH[414/500] loss0.094-|Sample:0.50|\n",
      "EPOCH[415/500] loss0.096-|Sample:0.49|\n",
      "EPOCH[416/500] loss0.093-|Sample:0.72|\n",
      "EPOCH[417/500] loss0.094-|Sample:0.49|\n",
      "EPOCH[418/500] loss0.096-|Sample:0.72|\n",
      "EPOCH[419/500] loss0.097-|Sample:0.49|\n"
     ]
    },
    {
     "name": "stderr",
     "output_type": "stream",
     "text": [
      "INFO:tensorboardX.summary:Summary name Test/Recall@[20, 40, 60] is illegal; using Test/Recall__20__40__60_ instead.\n",
      "INFO:tensorboardX.summary:Summary name Test/Recall@[20, 40, 60] is illegal; using Test/Recall__20__40__60_ instead.\n",
      "INFO:tensorboardX.summary:Summary name Test/Recall@[20, 40, 60] is illegal; using Test/Recall__20__40__60_ instead.\n",
      "INFO:tensorboardX.summary:Summary name Test/Precision@[20, 40, 60] is illegal; using Test/Precision__20__40__60_ instead.\n",
      "INFO:tensorboardX.summary:Summary name Test/Precision@[20, 40, 60] is illegal; using Test/Precision__20__40__60_ instead.\n",
      "INFO:tensorboardX.summary:Summary name Test/Precision@[20, 40, 60] is illegal; using Test/Precision__20__40__60_ instead.\n",
      "INFO:tensorboardX.summary:Summary name Test/NDCG@[20, 40, 60] is illegal; using Test/NDCG__20__40__60_ instead.\n",
      "INFO:tensorboardX.summary:Summary name Test/NDCG@[20, 40, 60] is illegal; using Test/NDCG__20__40__60_ instead.\n",
      "INFO:tensorboardX.summary:Summary name Test/NDCG@[20, 40, 60] is illegal; using Test/NDCG__20__40__60_ instead.\n"
     ]
    },
    {
     "name": "stdout",
     "output_type": "stream",
     "text": [
      "EPOCH[420/500] loss0.094-|Sample:0.49|\n",
      "\u001b[0;30;43m[TEST]\u001b[0m\n",
      "{'precision': array([0.28333333, 0.22132675, 0.18432018]), 'recall': array([0.31698377, 0.46227544, 0.55277028]), 'ndcg': array([0.39588381, 0.41827742, 0.44086723])}\n",
      "EPOCH[421/500] loss0.096-|Sample:0.94|\n",
      "EPOCH[422/500] loss0.094-|Sample:0.49|\n",
      "EPOCH[423/500] loss0.093-|Sample:0.65|\n",
      "EPOCH[424/500] loss0.091-|Sample:0.49|\n",
      "EPOCH[425/500] loss0.092-|Sample:0.71|\n",
      "EPOCH[426/500] loss0.093-|Sample:0.49|\n",
      "EPOCH[427/500] loss0.094-|Sample:0.49|\n",
      "EPOCH[428/500] loss0.095-|Sample:0.71|\n",
      "EPOCH[429/500] loss0.093-|Sample:0.49|\n"
     ]
    },
    {
     "name": "stderr",
     "output_type": "stream",
     "text": [
      "INFO:tensorboardX.summary:Summary name Test/Recall@[20, 40, 60] is illegal; using Test/Recall__20__40__60_ instead.\n",
      "INFO:tensorboardX.summary:Summary name Test/Recall@[20, 40, 60] is illegal; using Test/Recall__20__40__60_ instead.\n",
      "INFO:tensorboardX.summary:Summary name Test/Recall@[20, 40, 60] is illegal; using Test/Recall__20__40__60_ instead.\n",
      "INFO:tensorboardX.summary:Summary name Test/Precision@[20, 40, 60] is illegal; using Test/Precision__20__40__60_ instead.\n",
      "INFO:tensorboardX.summary:Summary name Test/Precision@[20, 40, 60] is illegal; using Test/Precision__20__40__60_ instead.\n",
      "INFO:tensorboardX.summary:Summary name Test/Precision@[20, 40, 60] is illegal; using Test/Precision__20__40__60_ instead.\n",
      "INFO:tensorboardX.summary:Summary name Test/NDCG@[20, 40, 60] is illegal; using Test/NDCG__20__40__60_ instead.\n",
      "INFO:tensorboardX.summary:Summary name Test/NDCG@[20, 40, 60] is illegal; using Test/NDCG__20__40__60_ instead.\n",
      "INFO:tensorboardX.summary:Summary name Test/NDCG@[20, 40, 60] is illegal; using Test/NDCG__20__40__60_ instead.\n"
     ]
    },
    {
     "name": "stdout",
     "output_type": "stream",
     "text": [
      "EPOCH[430/500] loss0.094-|Sample:0.72|\n",
      "\u001b[0;30;43m[TEST]\u001b[0m\n",
      "{'precision': array([0.28464912, 0.22160088, 0.18450292]), 'recall': array([0.318739  , 0.46246052, 0.55276855]), 'ndcg': array([0.39759078, 0.41884541, 0.4413433 ])}\n",
      "EPOCH[431/500] loss0.093-|Sample:0.51|\n",
      "EPOCH[432/500] loss0.094-|Sample:0.53|\n",
      "EPOCH[433/500] loss0.093-|Sample:0.53|\n",
      "EPOCH[434/500] loss0.095-|Sample:0.81|\n",
      "EPOCH[435/500] loss0.093-|Sample:0.64|\n",
      "EPOCH[436/500] loss0.094-|Sample:0.61|\n",
      "EPOCH[437/500] loss0.093-|Sample:0.74|\n",
      "EPOCH[438/500] loss0.092-|Sample:0.73|\n",
      "EPOCH[439/500] loss0.093-|Sample:0.69|\n"
     ]
    },
    {
     "name": "stderr",
     "output_type": "stream",
     "text": [
      "INFO:tensorboardX.summary:Summary name Test/Recall@[20, 40, 60] is illegal; using Test/Recall__20__40__60_ instead.\n",
      "INFO:tensorboardX.summary:Summary name Test/Recall@[20, 40, 60] is illegal; using Test/Recall__20__40__60_ instead.\n",
      "INFO:tensorboardX.summary:Summary name Test/Recall@[20, 40, 60] is illegal; using Test/Recall__20__40__60_ instead.\n",
      "INFO:tensorboardX.summary:Summary name Test/Precision@[20, 40, 60] is illegal; using Test/Precision__20__40__60_ instead.\n",
      "INFO:tensorboardX.summary:Summary name Test/Precision@[20, 40, 60] is illegal; using Test/Precision__20__40__60_ instead.\n",
      "INFO:tensorboardX.summary:Summary name Test/Precision@[20, 40, 60] is illegal; using Test/Precision__20__40__60_ instead.\n",
      "INFO:tensorboardX.summary:Summary name Test/NDCG@[20, 40, 60] is illegal; using Test/NDCG__20__40__60_ instead.\n",
      "INFO:tensorboardX.summary:Summary name Test/NDCG@[20, 40, 60] is illegal; using Test/NDCG__20__40__60_ instead.\n",
      "INFO:tensorboardX.summary:Summary name Test/NDCG@[20, 40, 60] is illegal; using Test/NDCG__20__40__60_ instead.\n"
     ]
    },
    {
     "name": "stdout",
     "output_type": "stream",
     "text": [
      "EPOCH[440/500] loss0.092-|Sample:0.90|\n",
      "\u001b[0;30;43m[TEST]\u001b[0m\n",
      "{'precision': array([0.28410088, 0.2214364 , 0.18450292]), 'recall': array([0.31894486, 0.46246672, 0.55367556]), 'ndcg': array([0.39742618, 0.41895651, 0.44173114])}\n",
      "EPOCH[441/500] loss0.091-|Sample:0.74|\n",
      "EPOCH[442/500] loss0.090-|Sample:0.50|\n",
      "EPOCH[443/500] loss0.092-|Sample:0.71|\n",
      "EPOCH[444/500] loss0.093-|Sample:0.62|\n",
      "EPOCH[445/500] loss0.090-|Sample:0.51|\n",
      "EPOCH[446/500] loss0.093-|Sample:0.78|\n",
      "EPOCH[447/500] loss0.091-|Sample:0.67|\n",
      "EPOCH[448/500] loss0.094-|Sample:0.75|\n",
      "EPOCH[449/500] loss0.093-|Sample:0.49|\n"
     ]
    },
    {
     "name": "stderr",
     "output_type": "stream",
     "text": [
      "INFO:tensorboardX.summary:Summary name Test/Recall@[20, 40, 60] is illegal; using Test/Recall__20__40__60_ instead.\n",
      "INFO:tensorboardX.summary:Summary name Test/Recall@[20, 40, 60] is illegal; using Test/Recall__20__40__60_ instead.\n",
      "INFO:tensorboardX.summary:Summary name Test/Recall@[20, 40, 60] is illegal; using Test/Recall__20__40__60_ instead.\n",
      "INFO:tensorboardX.summary:Summary name Test/Precision@[20, 40, 60] is illegal; using Test/Precision__20__40__60_ instead.\n",
      "INFO:tensorboardX.summary:Summary name Test/Precision@[20, 40, 60] is illegal; using Test/Precision__20__40__60_ instead.\n",
      "INFO:tensorboardX.summary:Summary name Test/Precision@[20, 40, 60] is illegal; using Test/Precision__20__40__60_ instead.\n",
      "INFO:tensorboardX.summary:Summary name Test/NDCG@[20, 40, 60] is illegal; using Test/NDCG__20__40__60_ instead.\n",
      "INFO:tensorboardX.summary:Summary name Test/NDCG@[20, 40, 60] is illegal; using Test/NDCG__20__40__60_ instead.\n",
      "INFO:tensorboardX.summary:Summary name Test/NDCG@[20, 40, 60] is illegal; using Test/NDCG__20__40__60_ instead.\n"
     ]
    },
    {
     "name": "stdout",
     "output_type": "stream",
     "text": [
      "EPOCH[450/500] loss0.092-|Sample:0.66|\n",
      "\u001b[0;30;43m[TEST]\u001b[0m\n",
      "{'precision': array([0.28486842, 0.221875  , 0.18497807]), 'recall': array([0.31832896, 0.46347364, 0.55277036]), 'ndcg': array([0.39805983, 0.41977832, 0.4420675 ])}\n",
      "EPOCH[451/500] loss0.091-|Sample:0.97|\n",
      "EPOCH[452/500] loss0.090-|Sample:0.49|\n",
      "EPOCH[453/500] loss0.091-|Sample:0.65|\n",
      "EPOCH[454/500] loss0.090-|Sample:0.49|\n",
      "EPOCH[455/500] loss0.092-|Sample:0.95|\n",
      "EPOCH[456/500] loss0.090-|Sample:0.66|\n",
      "EPOCH[457/500] loss0.092-|Sample:0.50|\n",
      "EPOCH[458/500] loss0.090-|Sample:0.74|\n",
      "EPOCH[459/500] loss0.091-|Sample:0.50|\n"
     ]
    },
    {
     "name": "stderr",
     "output_type": "stream",
     "text": [
      "INFO:tensorboardX.summary:Summary name Test/Recall@[20, 40, 60] is illegal; using Test/Recall__20__40__60_ instead.\n",
      "INFO:tensorboardX.summary:Summary name Test/Recall@[20, 40, 60] is illegal; using Test/Recall__20__40__60_ instead.\n",
      "INFO:tensorboardX.summary:Summary name Test/Recall@[20, 40, 60] is illegal; using Test/Recall__20__40__60_ instead.\n",
      "INFO:tensorboardX.summary:Summary name Test/Precision@[20, 40, 60] is illegal; using Test/Precision__20__40__60_ instead.\n",
      "INFO:tensorboardX.summary:Summary name Test/Precision@[20, 40, 60] is illegal; using Test/Precision__20__40__60_ instead.\n",
      "INFO:tensorboardX.summary:Summary name Test/Precision@[20, 40, 60] is illegal; using Test/Precision__20__40__60_ instead.\n",
      "INFO:tensorboardX.summary:Summary name Test/NDCG@[20, 40, 60] is illegal; using Test/NDCG__20__40__60_ instead.\n",
      "INFO:tensorboardX.summary:Summary name Test/NDCG@[20, 40, 60] is illegal; using Test/NDCG__20__40__60_ instead.\n",
      "INFO:tensorboardX.summary:Summary name Test/NDCG@[20, 40, 60] is illegal; using Test/NDCG__20__40__60_ instead.\n"
     ]
    },
    {
     "name": "stdout",
     "output_type": "stream",
     "text": [
      "EPOCH[460/500] loss0.091-|Sample:0.96|\n",
      "\u001b[0;30;43m[TEST]\u001b[0m\n",
      "{'precision': array([0.28486842, 0.22225877, 0.18559942]), 'recall': array([0.31849107, 0.4640698 , 0.5548682 ]), 'ndcg': array([0.39787775, 0.42004105, 0.44286661])}\n",
      "EPOCH[461/500] loss0.090-|Sample:0.61|\n",
      "EPOCH[462/500] loss0.089-|Sample:0.66|\n",
      "EPOCH[463/500] loss0.089-|Sample:0.67|\n",
      "EPOCH[464/500] loss0.088-|Sample:0.89|\n",
      "EPOCH[465/500] loss0.091-|Sample:0.60|\n",
      "EPOCH[466/500] loss0.087-|Sample:0.50|\n",
      "EPOCH[467/500] loss0.088-|Sample:0.72|\n",
      "EPOCH[468/500] loss0.090-|Sample:0.49|\n",
      "EPOCH[469/500] loss0.089-|Sample:0.49|\n"
     ]
    },
    {
     "name": "stderr",
     "output_type": "stream",
     "text": [
      "INFO:tensorboardX.summary:Summary name Test/Recall@[20, 40, 60] is illegal; using Test/Recall__20__40__60_ instead.\n",
      "INFO:tensorboardX.summary:Summary name Test/Recall@[20, 40, 60] is illegal; using Test/Recall__20__40__60_ instead.\n",
      "INFO:tensorboardX.summary:Summary name Test/Recall@[20, 40, 60] is illegal; using Test/Recall__20__40__60_ instead.\n",
      "INFO:tensorboardX.summary:Summary name Test/Precision@[20, 40, 60] is illegal; using Test/Precision__20__40__60_ instead.\n",
      "INFO:tensorboardX.summary:Summary name Test/Precision@[20, 40, 60] is illegal; using Test/Precision__20__40__60_ instead.\n",
      "INFO:tensorboardX.summary:Summary name Test/Precision@[20, 40, 60] is illegal; using Test/Precision__20__40__60_ instead.\n",
      "INFO:tensorboardX.summary:Summary name Test/NDCG@[20, 40, 60] is illegal; using Test/NDCG__20__40__60_ instead.\n",
      "INFO:tensorboardX.summary:Summary name Test/NDCG@[20, 40, 60] is illegal; using Test/NDCG__20__40__60_ instead.\n",
      "INFO:tensorboardX.summary:Summary name Test/NDCG@[20, 40, 60] is illegal; using Test/NDCG__20__40__60_ instead.\n"
     ]
    },
    {
     "name": "stdout",
     "output_type": "stream",
     "text": [
      "EPOCH[470/500] loss0.090-|Sample:0.79|\n",
      "\u001b[0;30;43m[TEST]\u001b[0m\n",
      "{'precision': array([0.28596491, 0.221875  , 0.18600146]), 'recall': array([0.32006744, 0.46331328, 0.55692915]), 'ndcg': array([0.40024274, 0.42099204, 0.44494205])}\n",
      "EPOCH[471/500] loss0.085-|Sample:0.50|\n",
      "EPOCH[472/500] loss0.088-|Sample:0.49|\n",
      "EPOCH[473/500] loss0.090-|Sample:0.71|\n",
      "EPOCH[474/500] loss0.087-|Sample:0.50|\n",
      "EPOCH[475/500] loss0.086-|Sample:0.49|\n",
      "EPOCH[476/500] loss0.088-|Sample:0.72|\n",
      "EPOCH[477/500] loss0.089-|Sample:0.57|\n",
      "EPOCH[478/500] loss0.088-|Sample:0.82|\n",
      "EPOCH[479/500] loss0.088-|Sample:0.49|\n"
     ]
    },
    {
     "name": "stderr",
     "output_type": "stream",
     "text": [
      "INFO:tensorboardX.summary:Summary name Test/Recall@[20, 40, 60] is illegal; using Test/Recall__20__40__60_ instead.\n",
      "INFO:tensorboardX.summary:Summary name Test/Recall@[20, 40, 60] is illegal; using Test/Recall__20__40__60_ instead.\n",
      "INFO:tensorboardX.summary:Summary name Test/Recall@[20, 40, 60] is illegal; using Test/Recall__20__40__60_ instead.\n",
      "INFO:tensorboardX.summary:Summary name Test/Precision@[20, 40, 60] is illegal; using Test/Precision__20__40__60_ instead.\n",
      "INFO:tensorboardX.summary:Summary name Test/Precision@[20, 40, 60] is illegal; using Test/Precision__20__40__60_ instead.\n",
      "INFO:tensorboardX.summary:Summary name Test/Precision@[20, 40, 60] is illegal; using Test/Precision__20__40__60_ instead.\n",
      "INFO:tensorboardX.summary:Summary name Test/NDCG@[20, 40, 60] is illegal; using Test/NDCG__20__40__60_ instead.\n",
      "INFO:tensorboardX.summary:Summary name Test/NDCG@[20, 40, 60] is illegal; using Test/NDCG__20__40__60_ instead.\n",
      "INFO:tensorboardX.summary:Summary name Test/NDCG@[20, 40, 60] is illegal; using Test/NDCG__20__40__60_ instead.\n"
     ]
    },
    {
     "name": "stdout",
     "output_type": "stream",
     "text": [
      "EPOCH[480/500] loss0.088-|Sample:0.49|\n",
      "\u001b[0;30;43m[TEST]\u001b[0m\n",
      "{'precision': array([0.28629386, 0.22247807, 0.18585526]), 'recall': array([0.3206053 , 0.46355916, 0.55493971]), 'ndcg': array([0.40017314, 0.421211  , 0.44420483])}\n",
      "EPOCH[481/500] loss0.089-|Sample:0.73|\n",
      "EPOCH[482/500] loss0.089-|Sample:0.57|\n",
      "EPOCH[483/500] loss0.089-|Sample:0.71|\n",
      "EPOCH[484/500] loss0.086-|Sample:0.50|\n",
      "EPOCH[485/500] loss0.089-|Sample:0.79|\n",
      "EPOCH[486/500] loss0.090-|Sample:0.67|\n",
      "EPOCH[487/500] loss0.088-|Sample:0.49|\n",
      "EPOCH[488/500] loss0.089-|Sample:0.93|\n",
      "EPOCH[489/500] loss0.085-|Sample:0.66|\n"
     ]
    },
    {
     "name": "stderr",
     "output_type": "stream",
     "text": [
      "INFO:tensorboardX.summary:Summary name Test/Recall@[20, 40, 60] is illegal; using Test/Recall__20__40__60_ instead.\n",
      "INFO:tensorboardX.summary:Summary name Test/Recall@[20, 40, 60] is illegal; using Test/Recall__20__40__60_ instead.\n",
      "INFO:tensorboardX.summary:Summary name Test/Recall@[20, 40, 60] is illegal; using Test/Recall__20__40__60_ instead.\n",
      "INFO:tensorboardX.summary:Summary name Test/Precision@[20, 40, 60] is illegal; using Test/Precision__20__40__60_ instead.\n",
      "INFO:tensorboardX.summary:Summary name Test/Precision@[20, 40, 60] is illegal; using Test/Precision__20__40__60_ instead.\n",
      "INFO:tensorboardX.summary:Summary name Test/Precision@[20, 40, 60] is illegal; using Test/Precision__20__40__60_ instead.\n",
      "INFO:tensorboardX.summary:Summary name Test/NDCG@[20, 40, 60] is illegal; using Test/NDCG__20__40__60_ instead.\n",
      "INFO:tensorboardX.summary:Summary name Test/NDCG@[20, 40, 60] is illegal; using Test/NDCG__20__40__60_ instead.\n",
      "INFO:tensorboardX.summary:Summary name Test/NDCG@[20, 40, 60] is illegal; using Test/NDCG__20__40__60_ instead.\n"
     ]
    },
    {
     "name": "stdout",
     "output_type": "stream",
     "text": [
      "EPOCH[490/500] loss0.087-|Sample:0.84|\n",
      "\u001b[0;30;43m[TEST]\u001b[0m\n",
      "{'precision': array([0.28563596, 0.22220395, 0.18618421]), 'recall': array([0.31907928, 0.46283085, 0.55576431]), 'ndcg': array([0.40027067, 0.42156901, 0.44530608])}\n",
      "EPOCH[491/500] loss0.085-|Sample:0.51|\n",
      "EPOCH[492/500] loss0.088-|Sample:0.49|\n",
      "EPOCH[493/500] loss0.083-|Sample:0.62|\n",
      "EPOCH[494/500] loss0.087-|Sample:0.72|\n",
      "EPOCH[495/500] loss0.088-|Sample:0.49|\n",
      "EPOCH[496/500] loss0.087-|Sample:0.51|\n",
      "EPOCH[497/500] loss0.085-|Sample:0.77|\n",
      "EPOCH[498/500] loss0.086-|Sample:0.49|\n",
      "EPOCH[499/500] loss0.084-|Sample:0.60|\n",
      "EPOCH[500/500] loss0.088-|Sample:0.89|\n"
     ]
    }
   ],
   "source": [
    "from LightGCN.code.main_lgcn import run_lightgcn\n",
    "# input 0: original layer-stacking weights, 1: modified layer-stacking weights\n",
    "run_lightgcn(0)"
   ]
  },
  {
   "cell_type": "code",
   "execution_count": null,
   "metadata": {
    "vscode": {
     "languageId": "python"
    }
   },
   "outputs": [],
   "source": [
    "#from LightGCN.code.main_lgcn import run_lightgcn\n",
    "#run_lightgcn(1)"
   ]
  },
  {
   "cell_type": "code",
   "execution_count": null,
   "metadata": {
    "vscode": {
     "languageId": "python"
    }
   },
   "outputs": [],
   "source": [
    "from LightGCN.code.main_lgcn import run_lightgcn\n",
    "run_lightgcn(1.5)"
   ]
  },
  {
   "cell_type": "code",
   "execution_count": null,
   "metadata": {
    "vscode": {
     "languageId": "python"
    }
   },
   "outputs": [],
   "source": [
    "#from LightGCN.code.main_lgcn import run_lightgcn\n",
    "#run_lightgcn(2)"
   ]
  },
  {
   "cell_type": "code",
   "execution_count": null,
   "metadata": {
    "vscode": {
     "languageId": "python"
    }
   },
   "outputs": [
    {
     "name": "stdout",
     "output_type": "stream",
     "text": [
      "\u001b[0;30;43mCpp extension not loaded\u001b[0m\n",
      ">>SEED: 2020\n",
      "\u001b[0;30;43mloading [LightGCN/data/movielens]\u001b[0m\n",
      "44140 interactions for training\n",
      "11235 interactions for testing\n",
      "movielens Sparsity : 0.03502087022514546\n",
      "movielens is ready to go\n",
      "===========config================\n",
      "{'A_n_fold': 100,\n",
      " 'A_split': False,\n",
      " 'bigdata': False,\n",
      " 'bpr_batch_size': 64,\n",
      " 'decay': 0.0001,\n",
      " 'dropout': 0,\n",
      " 'keep_prob': 0.6,\n",
      " 'latent_dim_rec': 64,\n",
      " 'lightGCN_n_layers': 3,\n",
      " 'lr': 0.0001,\n",
      " 'multicore': 0,\n",
      " 'pretrain': 0,\n",
      " 'stacking_func': 1,\n",
      " 'test_u_batch_size': 45}\n",
      "cores for test: 10\n",
      "comment: lgn\n",
      "tensorboard: 1\n",
      "LOAD: 0\n",
      "Weight path: ./checkpoints\n",
      "Test Topks: [20, 40, 60]\n",
      "using bpr loss\n",
      "===========end===================\n",
      "\u001b[0;30;43mstacking_func: 3\u001b[0m\n",
      "\u001b[0;30;43muse NORMAL distribution initilizer\u001b[0m\n",
      "loading adjacency matrix\n",
      "successfully loaded...\n"
     ]
    }
   ],
   "source": [
    "from LightGCN.code.main_lgcn import run_lightgcn\n",
    "run_lightgcn(3)"
   ]
  },
  {
   "cell_type": "markdown",
   "metadata": {},
   "source": [
    "### For comparison"
   ]
  },
  {
   "cell_type": "code",
   "execution_count": null,
   "metadata": {
    "executionInfo": {
     "elapsed": 5,
     "status": "aborted",
     "timestamp": 1667642261028,
     "user": {
      "displayName": "Yj WEI",
      "userId": "09205277183220707996"
     },
     "user_tz": -480
    },
    "id": "BZtl_jr3sA1o",
    "vscode": {
     "languageId": "python"
    }
   },
   "outputs": [],
   "source": [
    "from recommenders.models.deeprec.DataModel.ImplicitCF import ImplicitCF\n",
    "from recommenders.models.deeprec.models.graphrec.lightgcn import LightGCN\n",
    "\n",
    "def prepare_training_lightgcn(train, test):\n",
    "    return ImplicitCF(train=train, test=test)\n",
    "\n",
    "def train_lightgcn(params, data):\n",
    "    hparams = prepare_hparams(**params)\n",
    "    model = LightGCN(hparams, data)\n",
    "    with Timer() as t:\n",
    "        model.fit()\n",
    "    return model, t\n",
    "\n",
    "def recommend_k_lightgcn(model, test, train, top_k=DEFAULT_K, remove_seen=True):\n",
    "    with Timer() as t:\n",
    "        topk_scores = model.recommend_k_items(\n",
    "            test, top_k=top_k, remove_seen=remove_seen\n",
    "        )\n",
    "    return topk_scores, t\n",
    "\n",
    "lightgcn_param = {\n",
    "    \"yaml_file\": os.path.join(\"drive\", \"MyDrive\", \"4222Group9\", \"lightgcn.yaml\"),\n",
    "    \"n_layers\": 3,\n",
    "    \"batch_size\": 1024,\n",
    "    \"epochs\": 10,\n",
    "    \"learning_rate\": 0.005,\n",
    "    \"eval_epoch\": 10,\n",
    "    \"top_k\": DEFAULT_K,\n",
    "}"
   ]
  },
  {
   "cell_type": "markdown",
   "metadata": {
    "id": "W8cmNmNcsIrU"
   },
   "source": [
    "## Comparison"
   ]
  },
  {
   "cell_type": "code",
   "execution_count": null,
   "metadata": {
    "executionInfo": {
     "elapsed": 6,
     "status": "aborted",
     "timestamp": 1667642261029,
     "user": {
      "displayName": "Yj WEI",
      "userId": "09205277183220707996"
     },
     "user_tz": -480
    },
    "id": "WDnMUwTkmaVl",
    "vscode": {
     "languageId": "python"
    }
   },
   "outputs": [],
   "source": [
    "params = {\n",
    "    \"als\": als_params,\n",
    "    \"ncf\": ncf_params,\n",
    "    \"lightgcn\": lightgcn_param,\n",
    "}\n",
    "prepare_training_data = {\n",
    "    \"als\": prepare_training_als,\n",
    "    \"ncf\": prepare_training_ncf,\n",
    "    \"lightgcn\": prepare_training_lightgcn,\n",
    "}\n",
    "\n",
    "\n",
    "from recommenders.evaluation.spark_evaluation import (\n",
    "    SparkRatingEvaluation,\n",
    "    SparkRankingEvaluation,\n",
    ")\n",
    "def rating_metrics_pyspark(test, predictions):\n",
    "    rating_eval = SparkRatingEvaluation(test, predictions, **COL_DICT)\n",
    "    return {\n",
    "        \"RMSE\": rating_eval.rmse(),\n",
    "        \"MAE\": rating_eval.mae(),\n",
    "        \"R2\": rating_eval.exp_var(),\n",
    "        \"Explained Variance\": rating_eval.rsquared(),\n",
    "    }\n",
    "def ranking_metrics_pyspark(test, predictions, k=DEFAULT_K):\n",
    "    rank_eval = SparkRankingEvaluation(\n",
    "        test, predictions, k=k, relevancy_method=\"top_k\", **COL_DICT\n",
    "    )\n",
    "    return {\n",
    "        \"MAP\": rank_eval.map_at_k(),\n",
    "        \"nDCG@k\": rank_eval.ndcg_at_k(),\n",
    "        \"Precision@k\": rank_eval.precision_at_k(),\n",
    "        \"Recall@k\": rank_eval.recall_at_k(),\n",
    "    }\n",
    "\n",
    "prepare_metrics_data = {\n",
    "    \"als\": lambda train, test: prepare_metrics_als(train, test),\n",
    "}\n",
    "trainer = {\n",
    "    \"als\": lambda params, data: train_als(params, data),\n",
    "    \"ncf\": lambda params, data: train_ncf(params, data),\n",
    "    \"lightgcn\": lambda params, data: train_lightgcn(params, data),\n",
    "}\n",
    "rating_predictor = {\n",
    "    \"als\": lambda model, test: predict_als(model, test),\n",
    "}\n",
    "rating_evaluator = {\n",
    "    \"als\": lambda test, predictions: rating_metrics_pyspark(test, predictions)\n",
    "}\n",
    "ranking_predictor = {\n",
    "    \"als\": lambda model, test, train: recommend_k_als(model, test, train),\n",
    "    \"ncf\": lambda model, test, train: recommend_k_ncf(model, test, train),\n",
    "    \"lightgcn\": lambda model, test, train: recommend_k_lightgcn(model, test, train),\n",
    "}\n",
    "ranking_evaluator = {\n",
    "    \"als\": lambda test, predictions, k: ranking_metrics_pyspark(test, predictions, k),\n",
    "    \"ncf\": lambda test, predictions, k: ranking_metrics_python(test, predictions, k),\n",
    "    \"lightgcn\": lambda test, predictions, k: ranking_metrics_python(test, predictions, k),\n",
    "}\n",
    "metrics = {\n",
    "    \"als\": [\"rating\", \"ranking\"],\n",
    "    \"ncf\": [\"ranking\"],\n",
    "    \"lightgcn\": [\"ranking\"]\n",
    "}"
   ]
  },
  {
   "cell_type": "markdown",
   "metadata": {
    "id": "3B4ScYiXzCN1"
   },
   "source": [
    "# 5 Hyperparameter Tunning"
   ]
  },
  {
   "cell_type": "code",
   "execution_count": null,
   "metadata": {
    "vscode": {
     "languageId": "python"
    }
   },
   "outputs": [],
   "source": [
    "def generate_summary(data, algo, k, train_time, time_rating, rating_metrics, time_ranking, ranking_metrics):\n",
    "    summary = {\"Data\": data, \"Algo\": algo, \"K\": k, \"Train time (s)\": train_time, \"Predicting time (s)\": time_rating, \"Recommending time (s)\": time_ranking}\n",
    "    if rating_metrics is None:\n",
    "        rating_metrics = {\n",
    "            \"RMSE\": np.nan,\n",
    "            \"MAE\": np.nan,\n",
    "            \"R2\": np.nan,\n",
    "            \"Explained Variance\": np.nan,\n",
    "        }\n",
    "    if ranking_metrics is None:\n",
    "        ranking_metrics = {\n",
    "            \"MAP\": np.nan,\n",
    "            \"nDCG@k\": np.nan,\n",
    "            \"Precision@k\": np.nan,\n",
    "            \"Recall@k\": np.nan,\n",
    "        }\n",
    "    summary.update(rating_metrics)\n",
    "    summary.update(ranking_metrics)\n",
    "    return summary"
   ]
  },
  {
   "cell_type": "code",
   "execution_count": null,
   "metadata": {
    "vscode": {
     "languageId": "python"
    }
   },
   "outputs": [],
   "source": [
    "data_sizes = [\"100k\"] # Movielens data size: 100k, 1m, 10m, or 20m\n",
    "algorithms = [ \"lightgcn\"]"
   ]
  },
  {
   "cell_type": "markdown",
   "metadata": {},
   "source": [
    "## Sanity Check by Overfitting on Small Data (skip)"
   ]
  },
  {
   "cell_type": "code",
   "execution_count": null,
   "metadata": {
    "vscode": {
     "languageId": "python"
    }
   },
   "outputs": [],
   "source": [
    "#!pip install pytorch-lightning\n",
    "from pytorch_lightning import Trainer, seed_everything\n",
    "from LightGCN.code.main_lgcn import sanity_check\n",
    "\n",
    "seed_everything(42, workers=True)\n",
    "\n",
    "model = sanity_check()\n",
    "trainer = Trainer(max_epochs=10000, overfit_batches=0.01)\n",
    "trainer.fit(model)"
   ]
  },
  {
   "cell_type": "markdown",
   "metadata": {},
   "source": [
    "## Training"
   ]
  },
  {
   "cell_type": "code",
   "execution_count": null,
   "metadata": {
    "vscode": {
     "languageId": "python"
    }
   },
   "outputs": [],
   "source": [
    "%%time\n",
    "\n",
    "data_sizes = [\"100k\"] # Movielens data size: 100k, 1m, 10m, or 20m\n",
    "algorithms = [ \"lightgcn\"]\n",
    "\n",
    "# For each data size and each algorithm, a recommender is evaluated. \n",
    "cols = [\"Data\", \"Algo\", \"K\", \"Train time (s)\", \"Predicting time (s)\", \"RMSE\", \"MAE\", \"R2\", \"Explained Variance\", \"Recommending time (s)\", \"MAP\", \"nDCG@k\", \"Precision@k\", \"Recall@k\"]\n",
    "df_results = pd.DataFrame(columns=cols)\n",
    "\n",
    "for data_size in data_sizes:\n",
    "    # Load the dataset\n",
    "    df = movielens.load_pandas_df(\n",
    "        size=data_size,\n",
    "        header=[DEFAULT_USER_COL, DEFAULT_ITEM_COL, DEFAULT_RATING_COL, DEFAULT_TIMESTAMP_COL]\n",
    "    )\n",
    "    print(\"Size of Movielens {}: {}\".format(data_size, df.shape))\n",
    "    \n",
    "    # Split the dataset\n",
    "    df_train, df_test = python_stratified_split(df,\n",
    "                                                ratio=0.75, \n",
    "                                                min_rating=1, \n",
    "                                                filter_by=\"item\", \n",
    "                                                col_user=DEFAULT_USER_COL, \n",
    "                                                col_item=DEFAULT_ITEM_COL\n",
    "                                                )\n",
    "   \n",
    "    # Loop through the algos\n",
    "    for algo in algorithms:\n",
    "        print(f\"\\nComputing {algo} algorithm on Movielens {data_size}\")\n",
    "        if algo == 'kgat':\n",
    "            model, data, Ks, device, time_train = train_kgat()\n",
    "            _, metrics_dict_kgat = evaluate_kgat(model, data, Ks, device)\n",
    "            print(metrics_dict_kgat)\n",
    "            # Record results\n",
    "            #summary = generate_summary('100k', algo, DEFAULT_K, time_train, time_rating, ratings, time_ranking, rankings)\n",
    "            #df_results.loc[df_results.shape[0] + 1] = summary\n",
    "            \n",
    "        else:\n",
    "            # Data prep for training set\n",
    "            train = prepare_training_data.get(algo, lambda x,y:(x,y))(df_train, df_test)\n",
    "            \n",
    "            # Get model parameters\n",
    "            model_params = params[algo]\n",
    "            \n",
    "            # Train the model\n",
    "            model, time_train = trainer[algo](model_params, train)\n",
    "            print(f\"Training time: {time_train}s\")\n",
    "                    \n",
    "            # Predict and evaluate\n",
    "            train, test = prepare_metrics_data.get(algo, lambda x,y:(x,y))(df_train, df_test)\n",
    "            \n",
    "            if \"rating\" in metrics[algo]:   \n",
    "                # Predict for rating\n",
    "                preds, time_rating = rating_predictor[algo](model, test)\n",
    "                print(f\"Rating prediction time: {time_rating}s\")\n",
    "                \n",
    "                # Evaluate for rating\n",
    "                ratings = rating_evaluator[algo](test, preds)\n",
    "            else:\n",
    "                ratings = None\n",
    "                time_rating = np.nan\n",
    "            \n",
    "            if \"ranking\" in metrics[algo]:\n",
    "                # Predict for ranking\n",
    "                top_k_scores, time_ranking = ranking_predictor[algo](model, test, train)\n",
    "                print(f\"Ranking prediction time: {time_ranking}s\")\n",
    "                \n",
    "                # Evaluate for rating\n",
    "                rankings = ranking_evaluator[algo](test, top_k_scores, DEFAULT_K)\n",
    "            else:\n",
    "                rankings = None\n",
    "                time_ranking = np.nan\n",
    "                \n",
    "            # Record results\n",
    "            summary = generate_summary(data_size, algo, DEFAULT_K, time_train, time_rating, ratings, time_ranking, rankings)\n",
    "            df_results.loc[df_results.shape[0] + 1] = summary\n",
    "        \n",
    "print(\"\\nComputation finished\")"
   ]
  },
  {
   "cell_type": "markdown",
   "metadata": {},
   "source": [
    "## Training Plot"
   ]
  },
  {
   "cell_type": "markdown",
   "metadata": {},
   "source": [
    "click \"launch TensorBoard Session\" in main_lgcn.py"
   ]
  },
  {
   "cell_type": "markdown",
   "metadata": {},
   "source": [
    "# 6 Comparisons on Movielens and Movie"
   ]
  },
  {
   "cell_type": "code",
   "execution_count": null,
   "metadata": {
    "executionInfo": {
     "elapsed": 8,
     "status": "aborted",
     "timestamp": 1667642261031,
     "user": {
      "displayName": "Yj WEI",
      "userId": "09205277183220707996"
     },
     "user_tz": -480
    },
    "id": "8reKYmEH2d-k",
    "vscode": {
     "languageId": "python"
    }
   },
   "outputs": [],
   "source": [
    "data_sizes = [\"100k\",\"1m\"] # Movielens data size: 100k, 1m, 10m, or 20m\n",
    "#algorithms = [ \"lightgcn\"]\n",
    "algorithms = [\"als\", \"ncf\", \"lightgcn\", \"kgat\"]"
   ]
  },
  {
   "cell_type": "code",
   "execution_count": null,
   "metadata": {
    "executionInfo": {
     "elapsed": 7,
     "status": "aborted",
     "timestamp": 1667642261031,
     "user": {
      "displayName": "Yj WEI",
      "userId": "09205277183220707996"
     },
     "user_tz": -480
    },
    "id": "-17fyWdVmiHM",
    "vscode": {
     "languageId": "python"
    }
   },
   "outputs": [],
   "source": [
    "%%time\n",
    "\n",
    "# For each data size and each algorithm, a recommender is evaluated. \n",
    "cols = [\"Data\", \"Algo\", \"K\", \"Train time (s)\", \"Predicting time (s)\", \"RMSE\", \"MAE\", \"R2\", \"Explained Variance\", \"Recommending time (s)\", \"MAP\", \"nDCG@k\", \"Precision@k\", \"Recall@k\"]\n",
    "df_results = pd.DataFrame(columns=cols)\n",
    "\n",
    "for data_size in data_sizes:\n",
    "    # Load the dataset\n",
    "    df = movielens.load_pandas_df(\n",
    "        size=data_size,\n",
    "        header=[DEFAULT_USER_COL, DEFAULT_ITEM_COL, DEFAULT_RATING_COL, DEFAULT_TIMESTAMP_COL]\n",
    "    )\n",
    "    print(\"Size of Movielens {}: {}\".format(data_size, df.shape))\n",
    "    \n",
    "    # Split the dataset\n",
    "    df_train, df_test = python_stratified_split(df,\n",
    "                                                ratio=0.75, \n",
    "                                                min_rating=1, \n",
    "                                                filter_by=\"item\", \n",
    "                                                col_user=DEFAULT_USER_COL, \n",
    "                                                col_item=DEFAULT_ITEM_COL\n",
    "                                                )\n",
    "   \n",
    "    # Loop through the algos\n",
    "    for algo in algorithms:\n",
    "        print(f\"\\nComputing {algo} algorithm on Movielens {data_size}\")\n",
    "        if algo == 'kgat':\n",
    "            model, data, Ks, device, time_train = train_kgat()\n",
    "            _, metrics_dict_kgat = evaluate_kgat(model, data, Ks, device)\n",
    "            print(metrics_dict_kgat)\n",
    "            # Record results\n",
    "            #summary = generate_summary('100k', algo, DEFAULT_K, time_train, time_rating, ratings, time_ranking, rankings)\n",
    "            #df_results.loc[df_results.shape[0] + 1] = summary\n",
    "            \n",
    "        else:\n",
    "            # Data prep for training set\n",
    "            train = prepare_training_data.get(algo, lambda x,y:(x,y))(df_train, df_test)\n",
    "            \n",
    "            # Get model parameters\n",
    "            model_params = params[algo]\n",
    "            \n",
    "            # Train the model\n",
    "            model, time_train = trainer[algo](model_params, train)\n",
    "            print(f\"Training time: {time_train}s\")\n",
    "                    \n",
    "            # Predict and evaluate\n",
    "            train, test = prepare_metrics_data.get(algo, lambda x,y:(x,y))(df_train, df_test)\n",
    "            \n",
    "            if \"rating\" in metrics[algo]:   \n",
    "                # Predict for rating\n",
    "                preds, time_rating = rating_predictor[algo](model, test)\n",
    "                print(f\"Rating prediction time: {time_rating}s\")\n",
    "                \n",
    "                # Evaluate for rating\n",
    "                ratings = rating_evaluator[algo](test, preds)\n",
    "            else:\n",
    "                ratings = None\n",
    "                time_rating = np.nan\n",
    "            \n",
    "            if \"ranking\" in metrics[algo]:\n",
    "                # Predict for ranking\n",
    "                top_k_scores, time_ranking = ranking_predictor[algo](model, test, train)\n",
    "                print(f\"Ranking prediction time: {time_ranking}s\")\n",
    "                \n",
    "                # Evaluate for rating\n",
    "                rankings = ranking_evaluator[algo](test, top_k_scores, DEFAULT_K)\n",
    "            else:\n",
    "                rankings = None\n",
    "                time_ranking = np.nan\n",
    "                \n",
    "            # Record results\n",
    "            summary = generate_summary(data_size, algo, DEFAULT_K, time_train, time_rating, ratings, time_ranking, rankings)\n",
    "            df_results.loc[df_results.shape[0] + 1] = summary\n",
    "        \n",
    "print(\"\\nComputation finished\")"
   ]
  },
  {
   "cell_type": "markdown",
   "metadata": {},
   "source": [
    "## Print the result summary"
   ]
  },
  {
   "cell_type": "code",
   "execution_count": null,
   "metadata": {
    "executionInfo": {
     "elapsed": 7,
     "status": "aborted",
     "timestamp": 1667642261031,
     "user": {
      "displayName": "Yj WEI",
      "userId": "09205277183220707996"
     },
     "user_tz": -480
    },
    "id": "36QRfkqVrYzi",
    "vscode": {
     "languageId": "python"
    }
   },
   "outputs": [],
   "source": [
    "df_results"
   ]
  },
  {
   "cell_type": "markdown",
   "metadata": {
    "id": "seUWygXTzYfc"
   },
   "source": [
    "# 7 Credit and Reference\n",
    "\n",
    "1. https://github.com/microsoft/recommenders"
   ]
  }
 ],
 "metadata": {
  "accelerator": "GPU",
  "colab": {
   "collapsed_sections": [],
   "provenance": []
  },
  "gpuClass": "standard",
  "kernelspec": {
   "display_name": "Python [conda env:cu101]",
   "language": "python",
   "name": "conda-env-cu101-py"
  },
  "language_info": {
   "codemirror_mode": {
    "name": "ipython",
    "version": 3
   },
   "file_extension": ".py",
   "mimetype": "text/x-python",
   "name": "python",
   "nbconvert_exporter": "python",
   "pygments_lexer": "ipython3",
   "version": "3.8.15"
  },
  "vscode": {
   "interpreter": {
    "hash": "8006cd3f4b5a31b91c77e5b5a521798c8412e8b93831dc7973f670e0263ddfcb"
   }
  }
 },
 "nbformat": 4,
 "nbformat_minor": 1
}
